{
  "cells": [
    {
      "cell_type": "code",
      "execution_count": 6,
      "metadata": {
        "collapsed": true,
        "execution": {
          "iopub.execute_input": "2020-09-09T23:53:35.660Z",
          "iopub.status.busy": "2020-09-09T23:53:35.632Z",
          "iopub.status.idle": "2020-09-09T23:53:37.490Z",
          "shell.execute_reply": "2020-09-09T23:53:37.479Z"
        },
        "jupyter": {
          "outputs_hidden": false,
          "source_hidden": false
        },
        "nteract": {
          "transient": {
            "deleting": false
          }
        },
        "outputExpanded": false,
        "trusted": false
      },
      "outputs": [
        {
          "name": "stdout",
          "output_type": "stream",
          "text": "Defaulting to user installation because normal site-packages is not writeable\nRequirement already satisfied: openpyxl in ./.local/lib/python3.6/site-packages (3.0.5)\nRequirement already satisfied: jdcal in ./.local/lib/python3.6/site-packages (from openpyxl) (1.4.1)\nRequirement already satisfied: et-xmlfile in ./.local/lib/python3.6/site-packages (from openpyxl) (1.0.1)\n\u001b[33mWARNING: You are using pip version 20.1.1; however, version 20.2.3 is available.\nYou should consider upgrading via the '/usr/bin/python3 -m pip install --upgrade pip' command.\u001b[0m\nDefaulting to user installation because normal site-packages is not writeable\nCollecting xlsxwriter\n  Downloading XlsxWriter-1.3.3-py2.py3-none-any.whl (144 kB)\n\u001b[K     |████████████████████████████████| 144 kB 3.1 MB/s eta 0:00:01\n\u001b[?25hInstalling collected packages: xlsxwriter\nSuccessfully installed xlsxwriter-1.3.3\n\u001b[33mWARNING: You are using pip version 20.1.1; however, version 20.2.3 is available.\nYou should consider upgrading via the '/usr/bin/python3 -m pip install --upgrade pip' command.\u001b[0m\n"
        }
      ],
      "source": "import sys\n!{sys.executable} -m pip install openpyxl\n!{sys.executable}  -m pip install xlsxwriter"
    },
    {
      "cell_type": "code",
      "execution_count": 2,
      "metadata": {
        "collapsed": true,
        "execution": {
          "iopub.execute_input": "2020-09-10T00:10:00.954Z",
          "iopub.status.busy": "2020-09-10T00:10:00.950Z",
          "iopub.status.idle": "2020-09-10T00:10:00.964Z",
          "shell.execute_reply": "2020-09-10T00:10:01.027Z"
        },
        "jupyter": {
          "outputs_hidden": false,
          "source_hidden": false
        },
        "nteract": {
          "transient": {
            "deleting": false
          }
        },
        "outputExpanded": false,
        "trusted": false
      },
      "outputs": [],
      "source": "import pandas as pd\nimport os\nfrom IPython.display import display"
    },
    {
      "cell_type": "code",
      "execution_count": 3,
      "metadata": {
        "collapsed": true,
        "execution": {
          "iopub.execute_input": "2020-09-10T00:10:05.841Z",
          "iopub.status.busy": "2020-09-10T00:10:05.707Z",
          "iopub.status.idle": "2020-09-10T00:10:05.855Z",
          "shell.execute_reply": "2020-09-10T00:10:05.863Z"
        },
        "jupyter": {
          "outputs_hidden": false,
          "source_hidden": false
        },
        "nteract": {
          "transient": {
            "deleting": false
          }
        },
        "outputExpanded": false,
        "trusted": false
      },
      "outputs": [
        {
          "data": {
            "text/html": "\r\n<div>\r\n  <style type='text/css' scoped>\r\n.collapsible {\r\n  background-color: #fff;\r\n  color: #0078D4;\r\n  cursor: pointer;\r\n  padding: 10px;\r\n  border: none;\r\n  text-align: left;\r\n  outline: none;\r\n  font-size: 15px;\r\n  border-radius: 5px;\r\n  margin: 5px\r\n}\r\n\r\n.active, .collapsible:hover {\r\n  color: #4db2ff;\r\n}\r\n\r\n.content {\r\n  margin: 2px;\r\n  padding: 0 18px;\r\n  overflow: hidden;\r\n  background-color: #fff;\r\n  height: 0px;\r\n  -moz-transition: height .2s ease-out;\r\n  -ms-transition: height .2s ease-out;\r\n  -o-transition: height .2s ease-out;\r\n  -webkit-transition: height .2s ease-out;\r\n  transition: height .2s ease-out;\r\n}\r\n</style>\r\n\r\n<button type='button' class='collapsible'>▶ View Query Metrics</button>\r\n  \r\n<div class='content'>\r\n  <div class='measuringWrapper'>\r\n    <span style=\"color:#0078D4\"><b>totalExecutionTimeInMs    </b>:    2284.45<br/><b>queryCompileTimeInMs    </b>:    1.02<br/><b>queryLogicalPlanBuildTimeInMs    </b>:    0.38<br/><b>queryPhysicalPlanBuildTimeInMs    </b>:    0.24<br/><b>queryOptimizationTimeInMs    </b>:    0.05<br/><b>VMExecutionTimeInMs    </b>:    2281.67<br/><b>indexLookupTimeInMs    </b>:    1.8699999999999999<br/><b>documentLoadTimeInMs    </b>:    838.62<br/><b>systemFunctionExecuteTimeInMs    </b>:    1124.9099999999999<br/><b>userFunctionExecuteTimeInMs    </b>:    0<br/><b>retrievedDocumentCount    </b>:    74131<br/><b>retrievedDocumentSize    </b>:    133194040<br/><b>outputDocumentCount    </b>:    334<br/><b>outputDocumentSize    </b>:    75330<br/><b>writeOutputTimeInMs    </b>:    1.9900000000000002<br/><b>averageIndexUtilizationRation    </b>:    0<br/></span>\r\n  </div>\r\n</div>\r\n\r\n<script>\r\nvar coll = document.getElementsByClassName('collapsible');\r\nvar i;\r\n\r\nfor (i = 0; i < coll.length; i++) {\r\n  \r\n  coll[i].addEventListener('click', function() {\r\n    this.classList.toggle('active');\r\n    var content = this.nextElementSibling;\r\n    \r\n    if (content.clientHeight != 0) {\r\n      this.textContent = '▶ View Query Metrics';\r\n      content.style.height = '0px';\r\n    }\r\n    else {\r\n      this.textContent = '▼ Hide Query Metrics';\r\n      content.style.height = content.children[0].clientHeight + 'px';\r\n    }\r\n  });\r\n}\r\n</script>\r\n</div>"
          },
          "metadata": {},
          "output_type": "display_data"
        }
      ],
      "source": "%%sql --database ups_logos --container batch --output df_request_count_by_date\nSELECT COUNT(c.id) AS TOTAL_SMALL_JOBS, \nSUM(c.entity.computeJob.numExecutors) AS TOTAL_EXECUTORS,\nSUM((c.entity.profileMetrics.endTime-c.entity.profileMetrics.startTime)/60000 * (c.entity.computeJob.numExecutors)) AS TOTAL_EXECUTOR_DURATION_MINT,\nDateTimeFromParts(2020, \nDateTimePart (\"month\" , TimestampToDateTime(c._ts*1000)), \nDateTimePart (\"day\" , TimestampToDateTime(c._ts*1000)),\nDateTimePart (\"hour\" , TimestampToDateTime(c._ts*1000))\n) AS DT\nFROM c \nWHERE \nDateTimeDiff(\"day\" , TimestampToDateTime(c._ts*1000), GetCurrentDateTime()) <= 7\nAND \nc.entity.siphonMetrics.inputRecordCount <= 10\nAND \nc.entity.status='success'\nGROUP BY \nDateTimeFromParts(2020, \nDateTimePart (\"month\" , TimestampToDateTime(c._ts*1000)), \nDateTimePart (\"day\" , TimestampToDateTime(c._ts*1000)),\nDateTimePart (\"hour\" , TimestampToDateTime(c._ts*1000)))"
    },
    {
      "cell_type": "code",
      "execution_count": 4,
      "metadata": {
        "collapsed": true,
        "execution": {
          "iopub.execute_input": "2020-09-10T00:10:08.116Z",
          "iopub.status.busy": "2020-09-10T00:10:08.113Z",
          "iopub.status.idle": "2020-09-10T00:10:08.216Z",
          "shell.execute_reply": "2020-09-10T00:10:08.255Z"
        },
        "jupyter": {
          "outputs_hidden": false,
          "source_hidden": false
        },
        "nteract": {
          "transient": {
            "deleting": false
          }
        },
        "outputExpanded": false,
        "trusted": false
      },
      "outputs": [],
      "source": "os.chdir(\"/var/data/notebooks\")\nout_path = \"smallIngestJobReport.xlsx\"\nwriter = pd.ExcelWriter(out_path , engine='xlsxwriter')\ndf_request_count_by_date.to_excel(writer, sheet_name='Sheet1')\nwriter.save()"
    },
    {
      "cell_type": "code",
      "execution_count": 5,
      "metadata": {
        "collapsed": true,
        "execution": {
          "iopub.execute_input": "2020-09-10T00:28:08.499Z",
          "iopub.status.busy": "2020-09-10T00:28:08.465Z",
          "iopub.status.idle": "2020-09-10T00:28:08.521Z",
          "shell.execute_reply": "2020-09-10T00:28:08.526Z"
        },
        "jupyter": {
          "outputs_hidden": false,
          "source_hidden": false
        },
        "nteract": {
          "transient": {
            "deleting": false
          }
        },
        "outputExpanded": false,
        "trusted": false
      },
      "outputs": [],
      "source": "os.chdir(\"/var/data/notebooks\")\nout_path = \"smallIngestJobReport_csv.csv\"\ndf_request_count_by_date.to_csv(out_path)"
    },
    {
      "cell_type": "code",
      "execution_count": 3,
      "metadata": {
        "collapsed": true,
        "execution": {
          "iopub.execute_input": "2020-09-09T23:49:02.576Z",
          "iopub.status.busy": "2020-09-09T23:49:02.542Z",
          "iopub.status.idle": "2020-09-09T23:49:02.999Z",
          "shell.execute_reply": "2020-09-09T23:49:03.056Z"
        },
        "jupyter": {
          "outputs_hidden": false,
          "source_hidden": false
        },
        "nteract": {
          "transient": {
            "deleting": false
          }
        },
        "outputExpanded": false,
        "trusted": false
      },
      "outputs": [
        {
          "data": {
            "application/vnd.dataresource+json": {
              "data": [
                {
                  "DT": "2020-09-02T06:00:00Z",
                  "TOTAL_EXECUTORS": 90,
                  "TOTAL_EXECUTOR_DURATION_MINT": 25.1787166667,
                  "TOTAL_SMALL_JOBS": 71,
                  "index": 0
                },
                {
                  "DT": "2020-09-02T08:00:00Z",
                  "TOTAL_EXECUTORS": 84,
                  "TOTAL_EXECUTOR_DURATION_MINT": 23.5101333333,
                  "TOTAL_SMALL_JOBS": 62,
                  "index": 1
                },
                {
                  "DT": "2020-09-02T12:00:00Z",
                  "TOTAL_EXECUTORS": 75,
                  "TOTAL_EXECUTOR_DURATION_MINT": 23.41755,
                  "TOTAL_SMALL_JOBS": 52,
                  "index": 2
                },
                {
                  "DT": "2020-09-02T14:00:00Z",
                  "TOTAL_EXECUTORS": 94,
                  "TOTAL_EXECUTOR_DURATION_MINT": 26.98465,
                  "TOTAL_SMALL_JOBS": 72,
                  "index": 3
                },
                {
                  "DT": "2020-09-02T18:00:00Z",
                  "TOTAL_EXECUTORS": 139,
                  "TOTAL_EXECUTOR_DURATION_MINT": 53.6931333333,
                  "TOTAL_SMALL_JOBS": 68,
                  "index": 4
                },
                {
                  "DT": "2020-09-02T19:00:00Z",
                  "TOTAL_EXECUTORS": 79,
                  "TOTAL_EXECUTOR_DURATION_MINT": 23.81575,
                  "TOTAL_SMALL_JOBS": 55,
                  "index": 5
                },
                {
                  "DT": "2020-09-02T23:00:00Z",
                  "TOTAL_EXECUTORS": 81,
                  "TOTAL_EXECUTOR_DURATION_MINT": 23.3422333333,
                  "TOTAL_SMALL_JOBS": 59,
                  "index": 6
                },
                {
                  "DT": "2020-09-03T01:00:00Z",
                  "TOTAL_EXECUTORS": 85,
                  "TOTAL_EXECUTOR_DURATION_MINT": 25.0316166667,
                  "TOTAL_SMALL_JOBS": 61,
                  "index": 7
                },
                {
                  "DT": "2020-09-03T12:00:00Z",
                  "TOTAL_EXECUTORS": 88,
                  "TOTAL_EXECUTOR_DURATION_MINT": 26.7448166667,
                  "TOTAL_SMALL_JOBS": 66,
                  "index": 8
                },
                {
                  "DT": "2020-09-03T14:00:00Z",
                  "TOTAL_EXECUTORS": 89,
                  "TOTAL_EXECUTOR_DURATION_MINT": 25.91005,
                  "TOTAL_SMALL_JOBS": 67,
                  "index": 9
                },
                {
                  "DT": "2020-09-03T17:00:00Z",
                  "TOTAL_EXECUTORS": 74,
                  "TOTAL_EXECUTOR_DURATION_MINT": 22.0059833333,
                  "TOTAL_SMALL_JOBS": 52,
                  "index": 10
                },
                {
                  "DT": "2020-09-03T18:00:00Z",
                  "TOTAL_EXECUTORS": 82,
                  "TOTAL_EXECUTOR_DURATION_MINT": 24.3707,
                  "TOTAL_SMALL_JOBS": 60,
                  "index": 11
                },
                {
                  "DT": "2020-09-03T22:00:00Z",
                  "TOTAL_EXECUTORS": 87,
                  "TOTAL_EXECUTOR_DURATION_MINT": 25.19055,
                  "TOTAL_SMALL_JOBS": 65,
                  "index": 12
                },
                {
                  "DT": "2020-09-04T02:00:00Z",
                  "TOTAL_EXECUTORS": 152,
                  "TOTAL_EXECUTOR_DURATION_MINT": 45.0617166667,
                  "TOTAL_SMALL_JOBS": 114,
                  "index": 13
                },
                {
                  "DT": "2020-09-04T06:00:00Z",
                  "TOTAL_EXECUTORS": 74,
                  "TOTAL_EXECUTOR_DURATION_MINT": 20.4446833333,
                  "TOTAL_SMALL_JOBS": 52,
                  "index": 14
                },
                {
                  "DT": "2020-09-04T07:00:00Z",
                  "TOTAL_EXECUTORS": 72,
                  "TOTAL_EXECUTOR_DURATION_MINT": 21.7703166667,
                  "TOTAL_SMALL_JOBS": 48,
                  "index": 15
                },
                {
                  "DT": "2020-09-04T19:00:00Z",
                  "TOTAL_EXECUTORS": 59,
                  "TOTAL_EXECUTOR_DURATION_MINT": 15.60645,
                  "TOTAL_SMALL_JOBS": 53,
                  "index": 16
                },
                {
                  "DT": "2020-09-04T20:00:00Z",
                  "TOTAL_EXECUTORS": 67,
                  "TOTAL_EXECUTOR_DURATION_MINT": 18.45575,
                  "TOTAL_SMALL_JOBS": 63,
                  "index": 17
                },
                {
                  "DT": "2020-09-05T00:00:00Z",
                  "TOTAL_EXECUTORS": 57,
                  "TOTAL_EXECUTOR_DURATION_MINT": 14.6961333333,
                  "TOTAL_SMALL_JOBS": 53,
                  "index": 18
                },
                {
                  "DT": "2020-09-05T01:00:00Z",
                  "TOTAL_EXECUTORS": 82,
                  "TOTAL_EXECUTOR_DURATION_MINT": 24.2420333333,
                  "TOTAL_SMALL_JOBS": 57,
                  "index": 19
                },
                {
                  "DT": "2020-09-05T03:00:00Z",
                  "TOTAL_EXECUTORS": 60,
                  "TOTAL_EXECUTOR_DURATION_MINT": 14.9758166667,
                  "TOTAL_SMALL_JOBS": 56,
                  "index": 20
                },
                {
                  "DT": "2020-09-05T04:00:00Z",
                  "TOTAL_EXECUTORS": 76,
                  "TOTAL_EXECUTOR_DURATION_MINT": 22.6004166667,
                  "TOTAL_SMALL_JOBS": 52,
                  "index": 21
                },
                {
                  "DT": "2020-09-05T05:00:00Z",
                  "TOTAL_EXECUTORS": 78,
                  "TOTAL_EXECUTOR_DURATION_MINT": 23.2617166667,
                  "TOTAL_SMALL_JOBS": 55,
                  "index": 22
                },
                {
                  "DT": "2020-09-05T06:00:00Z",
                  "TOTAL_EXECUTORS": 78,
                  "TOTAL_EXECUTOR_DURATION_MINT": 22.4350333333,
                  "TOTAL_SMALL_JOBS": 55,
                  "index": 23
                },
                {
                  "DT": "2020-09-05T07:00:00Z",
                  "TOTAL_EXECUTORS": 75,
                  "TOTAL_EXECUTOR_DURATION_MINT": 22.4158,
                  "TOTAL_SMALL_JOBS": 50,
                  "index": 24
                },
                {
                  "DT": "2020-09-05T08:00:00Z",
                  "TOTAL_EXECUTORS": 96,
                  "TOTAL_EXECUTOR_DURATION_MINT": 28.5061833333,
                  "TOTAL_SMALL_JOBS": 73,
                  "index": 25
                },
                {
                  "DT": "2020-09-05T09:00:00Z",
                  "TOTAL_EXECUTORS": 80,
                  "TOTAL_EXECUTOR_DURATION_MINT": 24.2470333333,
                  "TOTAL_SMALL_JOBS": 57,
                  "index": 26
                },
                {
                  "DT": "2020-09-05T10:00:00Z",
                  "TOTAL_EXECUTORS": 74,
                  "TOTAL_EXECUTOR_DURATION_MINT": 22.40125,
                  "TOTAL_SMALL_JOBS": 49,
                  "index": 27
                },
                {
                  "DT": "2020-09-05T11:00:00Z",
                  "TOTAL_EXECUTORS": 70,
                  "TOTAL_EXECUTOR_DURATION_MINT": 21.122,
                  "TOTAL_SMALL_JOBS": 47,
                  "index": 28
                },
                {
                  "DT": "2020-09-05T12:00:00Z",
                  "TOTAL_EXECUTORS": 57,
                  "TOTAL_EXECUTOR_DURATION_MINT": 15.5166833333,
                  "TOTAL_SMALL_JOBS": 53,
                  "index": 29
                },
                {
                  "DT": "2020-09-05T13:00:00Z",
                  "TOTAL_EXECUTORS": 55,
                  "TOTAL_EXECUTOR_DURATION_MINT": 14.0688,
                  "TOTAL_SMALL_JOBS": 49,
                  "index": 30
                },
                {
                  "DT": "2020-09-05T14:00:00Z",
                  "TOTAL_EXECUTORS": 96,
                  "TOTAL_EXECUTOR_DURATION_MINT": 27.3737666667,
                  "TOTAL_SMALL_JOBS": 73,
                  "index": 31
                },
                {
                  "DT": "2020-09-05T15:00:00Z",
                  "TOTAL_EXECUTORS": 77,
                  "TOTAL_EXECUTOR_DURATION_MINT": 22.7475333333,
                  "TOTAL_SMALL_JOBS": 54,
                  "index": 32
                },
                {
                  "DT": "2020-09-05T16:00:00Z",
                  "TOTAL_EXECUTORS": 78,
                  "TOTAL_EXECUTOR_DURATION_MINT": 23.9337666667,
                  "TOTAL_SMALL_JOBS": 54,
                  "index": 33
                },
                {
                  "DT": "2020-09-05T17:00:00Z",
                  "TOTAL_EXECUTORS": 76,
                  "TOTAL_EXECUTOR_DURATION_MINT": 22.3757333333,
                  "TOTAL_SMALL_JOBS": 53,
                  "index": 34
                },
                {
                  "DT": "2020-09-05T18:00:00Z",
                  "TOTAL_EXECUTORS": 87,
                  "TOTAL_EXECUTOR_DURATION_MINT": 25.2435833333,
                  "TOTAL_SMALL_JOBS": 64,
                  "index": 35
                },
                {
                  "DT": "2020-09-05T19:00:00Z",
                  "TOTAL_EXECUTORS": 82,
                  "TOTAL_EXECUTOR_DURATION_MINT": 23.7593833333,
                  "TOTAL_SMALL_JOBS": 58,
                  "index": 36
                },
                {
                  "DT": "2020-09-05T20:00:00Z",
                  "TOTAL_EXECUTORS": 95,
                  "TOTAL_EXECUTOR_DURATION_MINT": 27.241,
                  "TOTAL_SMALL_JOBS": 72,
                  "index": 37
                },
                {
                  "DT": "2020-09-05T21:00:00Z",
                  "TOTAL_EXECUTORS": 74,
                  "TOTAL_EXECUTOR_DURATION_MINT": 19.0116166667,
                  "TOTAL_SMALL_JOBS": 70,
                  "index": 38
                },
                {
                  "DT": "2020-09-05T22:00:00Z",
                  "TOTAL_EXECUTORS": 95,
                  "TOTAL_EXECUTOR_DURATION_MINT": 27.70285,
                  "TOTAL_SMALL_JOBS": 70,
                  "index": 39
                },
                {
                  "DT": "2020-09-05T23:00:00Z",
                  "TOTAL_EXECUTORS": 58,
                  "TOTAL_EXECUTOR_DURATION_MINT": 14.8055833333,
                  "TOTAL_SMALL_JOBS": 54,
                  "index": 40
                },
                {
                  "DT": "2020-09-06T00:00:00Z",
                  "TOTAL_EXECUTORS": 80,
                  "TOTAL_EXECUTOR_DURATION_MINT": 23.8221833333,
                  "TOTAL_SMALL_JOBS": 57,
                  "index": 41
                },
                {
                  "DT": "2020-09-06T01:00:00Z",
                  "TOTAL_EXECUTORS": 62,
                  "TOTAL_EXECUTOR_DURATION_MINT": 15.7518666667,
                  "TOTAL_SMALL_JOBS": 56,
                  "index": 42
                },
                {
                  "DT": "2020-09-06T02:00:00Z",
                  "TOTAL_EXECUTORS": 95,
                  "TOTAL_EXECUTOR_DURATION_MINT": 26.9560833333,
                  "TOTAL_SMALL_JOBS": 72,
                  "index": 43
                },
                {
                  "DT": "2020-09-06T03:00:00Z",
                  "TOTAL_EXECUTORS": 82,
                  "TOTAL_EXECUTOR_DURATION_MINT": 22.9119833333,
                  "TOTAL_SMALL_JOBS": 59,
                  "index": 44
                },
                {
                  "DT": "2020-09-06T04:00:00Z",
                  "TOTAL_EXECUTORS": 80,
                  "TOTAL_EXECUTOR_DURATION_MINT": 24.0653166667,
                  "TOTAL_SMALL_JOBS": 55,
                  "index": 45
                },
                {
                  "DT": "2020-09-06T05:00:00Z",
                  "TOTAL_EXECUTORS": 78,
                  "TOTAL_EXECUTOR_DURATION_MINT": 23.7548666667,
                  "TOTAL_SMALL_JOBS": 55,
                  "index": 46
                },
                {
                  "DT": "2020-09-06T06:00:00Z",
                  "TOTAL_EXECUTORS": 54,
                  "TOTAL_EXECUTOR_DURATION_MINT": 13.35695,
                  "TOTAL_SMALL_JOBS": 50,
                  "index": 47
                },
                {
                  "DT": "2020-09-06T07:00:00Z",
                  "TOTAL_EXECUTORS": 78,
                  "TOTAL_EXECUTOR_DURATION_MINT": 23.0676,
                  "TOTAL_SMALL_JOBS": 53,
                  "index": 48
                },
                {
                  "DT": "2020-09-06T08:00:00Z",
                  "TOTAL_EXECUTORS": 93,
                  "TOTAL_EXECUTOR_DURATION_MINT": 27.7120333333,
                  "TOTAL_SMALL_JOBS": 70,
                  "index": 49
                },
                {
                  "DT": "2020-09-06T09:00:00Z",
                  "TOTAL_EXECUTORS": 83,
                  "TOTAL_EXECUTOR_DURATION_MINT": 26.3999,
                  "TOTAL_SMALL_JOBS": 60,
                  "index": 50
                },
                {
                  "DT": "2020-09-06T10:00:00Z",
                  "TOTAL_EXECUTORS": 83,
                  "TOTAL_EXECUTOR_DURATION_MINT": 24.7409,
                  "TOTAL_SMALL_JOBS": 58,
                  "index": 51
                },
                {
                  "DT": "2020-09-06T11:00:00Z",
                  "TOTAL_EXECUTORS": 70,
                  "TOTAL_EXECUTOR_DURATION_MINT": 21.38845,
                  "TOTAL_SMALL_JOBS": 47,
                  "index": 52
                },
                {
                  "DT": "2020-09-06T12:00:00Z",
                  "TOTAL_EXECUTORS": 58,
                  "TOTAL_EXECUTOR_DURATION_MINT": 15.63595,
                  "TOTAL_SMALL_JOBS": 54,
                  "index": 53
                },
                {
                  "DT": "2020-09-06T13:00:00Z",
                  "TOTAL_EXECUTORS": 73,
                  "TOTAL_EXECUTOR_DURATION_MINT": 22.5160166667,
                  "TOTAL_SMALL_JOBS": 50,
                  "index": 54
                },
                {
                  "DT": "2020-09-06T14:00:00Z",
                  "TOTAL_EXECUTORS": 93,
                  "TOTAL_EXECUTOR_DURATION_MINT": 26.92565,
                  "TOTAL_SMALL_JOBS": 70,
                  "index": 55
                },
                {
                  "DT": "2020-09-06T15:00:00Z",
                  "TOTAL_EXECUTORS": 78,
                  "TOTAL_EXECUTOR_DURATION_MINT": 24.2776166667,
                  "TOTAL_SMALL_JOBS": 55,
                  "index": 56
                },
                {
                  "DT": "2020-09-06T16:00:00Z",
                  "TOTAL_EXECUTORS": 79,
                  "TOTAL_EXECUTOR_DURATION_MINT": 24.8169166667,
                  "TOTAL_SMALL_JOBS": 55,
                  "index": 57
                },
                {
                  "DT": "2020-09-06T17:00:00Z",
                  "TOTAL_EXECUTORS": 81,
                  "TOTAL_EXECUTOR_DURATION_MINT": 23.4979166667,
                  "TOTAL_SMALL_JOBS": 58,
                  "index": 58
                },
                {
                  "DT": "2020-09-06T18:00:00Z",
                  "TOTAL_EXECUTORS": 68,
                  "TOTAL_EXECUTOR_DURATION_MINT": 17.6694166667,
                  "TOTAL_SMALL_JOBS": 64,
                  "index": 59
                },
                {
                  "DT": "2020-09-06T19:00:00Z",
                  "TOTAL_EXECUTORS": 84,
                  "TOTAL_EXECUTOR_DURATION_MINT": 24.8687333333,
                  "TOTAL_SMALL_JOBS": 60,
                  "index": 60
                },
                {
                  "DT": "2020-09-06T20:00:00Z",
                  "TOTAL_EXECUTORS": 70,
                  "TOTAL_EXECUTOR_DURATION_MINT": 17.95075,
                  "TOTAL_SMALL_JOBS": 66,
                  "index": 61
                },
                {
                  "DT": "2020-09-06T21:00:00Z",
                  "TOTAL_EXECUTORS": 70,
                  "TOTAL_EXECUTOR_DURATION_MINT": 18.0193,
                  "TOTAL_SMALL_JOBS": 66,
                  "index": 62
                },
                {
                  "DT": "2020-09-06T22:00:00Z",
                  "TOTAL_EXECUTORS": 94,
                  "TOTAL_EXECUTOR_DURATION_MINT": 26.5300833333,
                  "TOTAL_SMALL_JOBS": 69,
                  "index": 63
                },
                {
                  "DT": "2020-09-06T23:00:00Z",
                  "TOTAL_EXECUTORS": 58,
                  "TOTAL_EXECUTOR_DURATION_MINT": 14.59725,
                  "TOTAL_SMALL_JOBS": 54,
                  "index": 64
                },
                {
                  "DT": "2020-09-07T00:00:00Z",
                  "TOTAL_EXECUTORS": 75,
                  "TOTAL_EXECUTOR_DURATION_MINT": 22.29205,
                  "TOTAL_SMALL_JOBS": 52,
                  "index": 65
                },
                {
                  "DT": "2020-09-07T01:00:00Z",
                  "TOTAL_EXECUTORS": 65,
                  "TOTAL_EXECUTOR_DURATION_MINT": 16.95305,
                  "TOTAL_SMALL_JOBS": 59,
                  "index": 66
                },
                {
                  "DT": "2020-09-07T02:00:00Z",
                  "TOTAL_EXECUTORS": 93,
                  "TOTAL_EXECUTOR_DURATION_MINT": 26.9358166667,
                  "TOTAL_SMALL_JOBS": 70,
                  "index": 67
                },
                {
                  "DT": "2020-09-07T03:00:00Z",
                  "TOTAL_EXECUTORS": 86,
                  "TOTAL_EXECUTOR_DURATION_MINT": 24.7059666667,
                  "TOTAL_SMALL_JOBS": 63,
                  "index": 68
                },
                {
                  "DT": "2020-09-07T04:00:00Z",
                  "TOTAL_EXECUTORS": 80,
                  "TOTAL_EXECUTOR_DURATION_MINT": 23.8406833333,
                  "TOTAL_SMALL_JOBS": 55,
                  "index": 69
                },
                {
                  "DT": "2020-09-07T05:00:00Z",
                  "TOTAL_EXECUTORS": 82,
                  "TOTAL_EXECUTOR_DURATION_MINT": 24.6869666667,
                  "TOTAL_SMALL_JOBS": 59,
                  "index": 70
                },
                {
                  "DT": "2020-09-07T06:00:00Z",
                  "TOTAL_EXECUTORS": 114,
                  "TOTAL_EXECUTOR_DURATION_MINT": 37.7897666667,
                  "TOTAL_SMALL_JOBS": 62,
                  "index": 71
                },
                {
                  "DT": "2020-09-07T07:00:00Z",
                  "TOTAL_EXECUTORS": 54,
                  "TOTAL_EXECUTOR_DURATION_MINT": 13.7054166667,
                  "TOTAL_SMALL_JOBS": 48,
                  "index": 72
                },
                {
                  "DT": "2020-09-07T08:00:00Z",
                  "TOTAL_EXECUTORS": 91,
                  "TOTAL_EXECUTOR_DURATION_MINT": 26.3683,
                  "TOTAL_SMALL_JOBS": 68,
                  "index": 73
                },
                {
                  "DT": "2020-09-07T09:00:00Z",
                  "TOTAL_EXECUTORS": 79,
                  "TOTAL_EXECUTOR_DURATION_MINT": 23.9136,
                  "TOTAL_SMALL_JOBS": 56,
                  "index": 74
                },
                {
                  "DT": "2020-09-07T10:00:00Z",
                  "TOTAL_EXECUTORS": 74,
                  "TOTAL_EXECUTOR_DURATION_MINT": 21.1440833333,
                  "TOTAL_SMALL_JOBS": 49,
                  "index": 75
                },
                {
                  "DT": "2020-09-07T11:00:00Z",
                  "TOTAL_EXECUTORS": 69,
                  "TOTAL_EXECUTOR_DURATION_MINT": 20.79995,
                  "TOTAL_SMALL_JOBS": 46,
                  "index": 76
                },
                {
                  "DT": "2020-09-07T12:00:00Z",
                  "TOTAL_EXECUTORS": 76,
                  "TOTAL_EXECUTOR_DURATION_MINT": 23.7726666667,
                  "TOTAL_SMALL_JOBS": 53,
                  "index": 77
                },
                {
                  "DT": "2020-09-07T13:00:00Z",
                  "TOTAL_EXECUTORS": 75,
                  "TOTAL_EXECUTOR_DURATION_MINT": 22.3636833333,
                  "TOTAL_SMALL_JOBS": 50,
                  "index": 78
                },
                {
                  "DT": "2020-09-07T14:00:00Z",
                  "TOTAL_EXECUTORS": 97,
                  "TOTAL_EXECUTOR_DURATION_MINT": 28.1199833333,
                  "TOTAL_SMALL_JOBS": 74,
                  "index": 79
                },
                {
                  "DT": "2020-09-07T15:00:00Z",
                  "TOTAL_EXECUTORS": 76,
                  "TOTAL_EXECUTOR_DURATION_MINT": 21.6090666667,
                  "TOTAL_SMALL_JOBS": 53,
                  "index": 80
                },
                {
                  "DT": "2020-09-07T16:00:00Z",
                  "TOTAL_EXECUTORS": 81,
                  "TOTAL_EXECUTOR_DURATION_MINT": 24.47905,
                  "TOTAL_SMALL_JOBS": 56,
                  "index": 81
                },
                {
                  "DT": "2020-09-07T17:00:00Z",
                  "TOTAL_EXECUTORS": 82,
                  "TOTAL_EXECUTOR_DURATION_MINT": 24.0140166667,
                  "TOTAL_SMALL_JOBS": 59,
                  "index": 82
                },
                {
                  "DT": "2020-09-07T18:00:00Z",
                  "TOTAL_EXECUTORS": 94,
                  "TOTAL_EXECUTOR_DURATION_MINT": 27.4502,
                  "TOTAL_SMALL_JOBS": 71,
                  "index": 83
                },
                {
                  "DT": "2020-09-07T19:00:00Z",
                  "TOTAL_EXECUTORS": 84,
                  "TOTAL_EXECUTOR_DURATION_MINT": 24.3955333333,
                  "TOTAL_SMALL_JOBS": 59,
                  "index": 84
                },
                {
                  "DT": "2020-09-07T20:00:00Z",
                  "TOTAL_EXECUTORS": 93,
                  "TOTAL_EXECUTOR_DURATION_MINT": 27.6939166667,
                  "TOTAL_SMALL_JOBS": 70,
                  "index": 85
                },
                {
                  "DT": "2020-09-07T21:00:00Z",
                  "TOTAL_EXECUTORS": 96,
                  "TOTAL_EXECUTOR_DURATION_MINT": 27.72975,
                  "TOTAL_SMALL_JOBS": 73,
                  "index": 86
                },
                {
                  "DT": "2020-09-07T22:00:00Z",
                  "TOTAL_EXECUTORS": 100,
                  "TOTAL_EXECUTOR_DURATION_MINT": 29.1069166667,
                  "TOTAL_SMALL_JOBS": 75,
                  "index": 87
                },
                {
                  "DT": "2020-09-07T23:00:00Z",
                  "TOTAL_EXECUTORS": 58,
                  "TOTAL_EXECUTOR_DURATION_MINT": 15.0234333333,
                  "TOTAL_SMALL_JOBS": 54,
                  "index": 88
                },
                {
                  "DT": "2020-09-08T00:00:00Z",
                  "TOTAL_EXECUTORS": 81,
                  "TOTAL_EXECUTOR_DURATION_MINT": 25.1935,
                  "TOTAL_SMALL_JOBS": 58,
                  "index": 89
                },
                {
                  "DT": "2020-09-08T01:00:00Z",
                  "TOTAL_EXECUTORS": 67,
                  "TOTAL_EXECUTOR_DURATION_MINT": 17.0777166667,
                  "TOTAL_SMALL_JOBS": 61,
                  "index": 90
                },
                {
                  "DT": "2020-09-08T02:00:00Z",
                  "TOTAL_EXECUTORS": 77,
                  "TOTAL_EXECUTOR_DURATION_MINT": 19.8979833333,
                  "TOTAL_SMALL_JOBS": 73,
                  "index": 91
                },
                {
                  "DT": "2020-09-08T03:00:00Z",
                  "TOTAL_EXECUTORS": 65,
                  "TOTAL_EXECUTOR_DURATION_MINT": 16.6926833333,
                  "TOTAL_SMALL_JOBS": 62,
                  "index": 92
                },
                {
                  "DT": "2020-09-08T04:00:00Z",
                  "TOTAL_EXECUTORS": 60,
                  "TOTAL_EXECUTOR_DURATION_MINT": 15.5946,
                  "TOTAL_SMALL_JOBS": 54,
                  "index": 93
                },
                {
                  "DT": "2020-09-08T05:00:00Z",
                  "TOTAL_EXECUTORS": 82,
                  "TOTAL_EXECUTOR_DURATION_MINT": 23.1917833333,
                  "TOTAL_SMALL_JOBS": 59,
                  "index": 94
                },
                {
                  "DT": "2020-09-08T06:00:00Z",
                  "TOTAL_EXECUTORS": 75,
                  "TOTAL_EXECUTOR_DURATION_MINT": 22.3135,
                  "TOTAL_SMALL_JOBS": 52,
                  "index": 95
                },
                {
                  "DT": "2020-09-08T07:00:00Z",
                  "TOTAL_EXECUTORS": 52,
                  "TOTAL_EXECUTOR_DURATION_MINT": 13.4247333333,
                  "TOTAL_SMALL_JOBS": 46,
                  "index": 96
                },
                {
                  "DT": "2020-09-08T08:00:00Z",
                  "TOTAL_EXECUTORS": 196,
                  "TOTAL_EXECUTOR_DURATION_MINT": 76.0835833333,
                  "TOTAL_SMALL_JOBS": 76,
                  "index": 97
                },
                {
                  "DT": "2020-09-08T09:00:00Z",
                  "TOTAL_EXECUTORS": 84,
                  "TOTAL_EXECUTOR_DURATION_MINT": 24.5943333333,
                  "TOTAL_SMALL_JOBS": 61,
                  "index": 98
                },
                {
                  "DT": "2020-09-08T10:00:00Z",
                  "TOTAL_EXECUTORS": 83,
                  "TOTAL_EXECUTOR_DURATION_MINT": 23.7655666667,
                  "TOTAL_SMALL_JOBS": 60,
                  "index": 99
                },
                {
                  "DT": "2020-09-08T11:00:00Z",
                  "TOTAL_EXECUTORS": 75,
                  "TOTAL_EXECUTOR_DURATION_MINT": 22.76455,
                  "TOTAL_SMALL_JOBS": 52,
                  "index": 100
                },
                {
                  "DT": "2020-09-08T12:00:00Z",
                  "TOTAL_EXECUTORS": 74,
                  "TOTAL_EXECUTOR_DURATION_MINT": 23.5220333333,
                  "TOTAL_SMALL_JOBS": 51,
                  "index": 101
                },
                {
                  "DT": "2020-09-08T13:00:00Z",
                  "TOTAL_EXECUTORS": 77,
                  "TOTAL_EXECUTOR_DURATION_MINT": 22.8432666667,
                  "TOTAL_SMALL_JOBS": 52,
                  "index": 102
                },
                {
                  "DT": "2020-09-08T14:00:00Z",
                  "TOTAL_EXECUTORS": 105,
                  "TOTAL_EXECUTOR_DURATION_MINT": 30.4140333333,
                  "TOTAL_SMALL_JOBS": 82,
                  "index": 103
                },
                {
                  "DT": "2020-09-08T15:00:00Z",
                  "TOTAL_EXECUTORS": 61,
                  "TOTAL_EXECUTOR_DURATION_MINT": 15.7827166667,
                  "TOTAL_SMALL_JOBS": 57,
                  "index": 104
                },
                {
                  "DT": "2020-09-02T00:00:00Z",
                  "TOTAL_EXECUTORS": 69,
                  "TOTAL_EXECUTOR_DURATION_MINT": 21.51745,
                  "TOTAL_SMALL_JOBS": 49,
                  "index": 105
                },
                {
                  "DT": "2020-09-08T16:00:00Z",
                  "TOTAL_EXECUTORS": 81,
                  "TOTAL_EXECUTOR_DURATION_MINT": 24.6271833333,
                  "TOTAL_SMALL_JOBS": 56,
                  "index": 106
                },
                {
                  "DT": "2020-09-08T17:00:00Z",
                  "TOTAL_EXECUTORS": 64,
                  "TOTAL_EXECUTOR_DURATION_MINT": 16.1891,
                  "TOTAL_SMALL_JOBS": 60,
                  "index": 107
                },
                {
                  "DT": "2020-09-02T01:00:00Z",
                  "TOTAL_EXECUTORS": 76,
                  "TOTAL_EXECUTOR_DURATION_MINT": 22.2208333333,
                  "TOTAL_SMALL_JOBS": 55,
                  "index": 108
                },
                {
                  "DT": "2020-09-08T18:00:00Z",
                  "TOTAL_EXECUTORS": 95,
                  "TOTAL_EXECUTOR_DURATION_MINT": 26.7926,
                  "TOTAL_SMALL_JOBS": 72,
                  "index": 109
                },
                {
                  "DT": "2020-09-02T02:00:00Z",
                  "TOTAL_EXECUTORS": 64,
                  "TOTAL_EXECUTOR_DURATION_MINT": 16.21525,
                  "TOTAL_SMALL_JOBS": 64,
                  "index": 110
                },
                {
                  "DT": "2020-09-08T19:00:00Z",
                  "TOTAL_EXECUTORS": 64,
                  "TOTAL_EXECUTOR_DURATION_MINT": 16.1438833333,
                  "TOTAL_SMALL_JOBS": 58,
                  "index": 111
                },
                {
                  "DT": "2020-09-02T03:00:00Z",
                  "TOTAL_EXECUTORS": 71,
                  "TOTAL_EXECUTOR_DURATION_MINT": 20.6413,
                  "TOTAL_SMALL_JOBS": 52,
                  "index": 112
                },
                {
                  "DT": "2020-09-08T20:00:00Z",
                  "TOTAL_EXECUTORS": 72,
                  "TOTAL_EXECUTOR_DURATION_MINT": 18.5079,
                  "TOTAL_SMALL_JOBS": 68,
                  "index": 113
                },
                {
                  "DT": "2020-09-08T21:00:00Z",
                  "TOTAL_EXECUTORS": 90,
                  "TOTAL_EXECUTOR_DURATION_MINT": 25.7204,
                  "TOTAL_SMALL_JOBS": 67,
                  "index": 114
                },
                {
                  "DT": "2020-09-02T04:00:00Z",
                  "TOTAL_EXECUTORS": 71,
                  "TOTAL_EXECUTOR_DURATION_MINT": 20.90355,
                  "TOTAL_SMALL_JOBS": 50,
                  "index": 115
                },
                {
                  "DT": "2020-09-08T22:00:00Z",
                  "TOTAL_EXECUTORS": 99,
                  "TOTAL_EXECUTOR_DURATION_MINT": 27.8815333333,
                  "TOTAL_SMALL_JOBS": 74,
                  "index": 116
                },
                {
                  "DT": "2020-09-08T23:00:00Z",
                  "TOTAL_EXECUTORS": 77,
                  "TOTAL_EXECUTOR_DURATION_MINT": 22.2936833333,
                  "TOTAL_SMALL_JOBS": 54,
                  "index": 117
                },
                {
                  "DT": "2020-09-02T05:00:00Z",
                  "TOTAL_EXECUTORS": 75,
                  "TOTAL_EXECUTOR_DURATION_MINT": 21.6737166667,
                  "TOTAL_SMALL_JOBS": 56,
                  "index": 118
                },
                {
                  "DT": "2020-09-09T00:00:00Z",
                  "TOTAL_EXECUTORS": 82,
                  "TOTAL_EXECUTOR_DURATION_MINT": 24.6745333333,
                  "TOTAL_SMALL_JOBS": 59,
                  "index": 119
                },
                {
                  "DT": "2020-09-09T01:00:00Z",
                  "TOTAL_EXECUTORS": 83,
                  "TOTAL_EXECUTOR_DURATION_MINT": 24.53595,
                  "TOTAL_SMALL_JOBS": 58,
                  "index": 120
                },
                {
                  "DT": "2020-09-09T02:00:00Z",
                  "TOTAL_EXECUTORS": 96,
                  "TOTAL_EXECUTOR_DURATION_MINT": 27.6364,
                  "TOTAL_SMALL_JOBS": 73,
                  "index": 121
                },
                {
                  "DT": "2020-09-09T03:00:00Z",
                  "TOTAL_EXECUTORS": 79,
                  "TOTAL_EXECUTOR_DURATION_MINT": 23.72365,
                  "TOTAL_SMALL_JOBS": 56,
                  "index": 122
                },
                {
                  "DT": "2020-09-02T07:00:00Z",
                  "TOTAL_EXECUTORS": 76,
                  "TOTAL_EXECUTOR_DURATION_MINT": 23.6031666667,
                  "TOTAL_SMALL_JOBS": 49,
                  "index": 123
                },
                {
                  "DT": "2020-09-09T04:00:00Z",
                  "TOTAL_EXECUTORS": 85,
                  "TOTAL_EXECUTOR_DURATION_MINT": 25.3752,
                  "TOTAL_SMALL_JOBS": 60,
                  "index": 124
                },
                {
                  "DT": "2020-09-09T05:00:00Z",
                  "TOTAL_EXECUTORS": 61,
                  "TOTAL_EXECUTOR_DURATION_MINT": 15.5535833333,
                  "TOTAL_SMALL_JOBS": 58,
                  "index": 125
                },
                {
                  "DT": "2020-09-09T06:00:00Z",
                  "TOTAL_EXECUTORS": 84,
                  "TOTAL_EXECUTOR_DURATION_MINT": 24.2710833333,
                  "TOTAL_SMALL_JOBS": 61,
                  "index": 126
                },
                {
                  "DT": "2020-09-02T09:00:00Z",
                  "TOTAL_EXECUTORS": 74,
                  "TOTAL_EXECUTOR_DURATION_MINT": 21.9284333333,
                  "TOTAL_SMALL_JOBS": 52,
                  "index": 127
                },
                {
                  "DT": "2020-09-09T07:00:00Z",
                  "TOTAL_EXECUTORS": 55,
                  "TOTAL_EXECUTOR_DURATION_MINT": 14.1656333333,
                  "TOTAL_SMALL_JOBS": 49,
                  "index": 128
                },
                {
                  "DT": "2020-09-09T08:00:00Z",
                  "TOTAL_EXECUTORS": 92,
                  "TOTAL_EXECUTOR_DURATION_MINT": 27.6044333333,
                  "TOTAL_SMALL_JOBS": 69,
                  "index": 129
                },
                {
                  "DT": "2020-09-09T09:00:00Z",
                  "TOTAL_EXECUTORS": 86,
                  "TOTAL_EXECUTOR_DURATION_MINT": 25.0319333333,
                  "TOTAL_SMALL_JOBS": 63,
                  "index": 130
                },
                {
                  "DT": "2020-09-02T10:00:00Z",
                  "TOTAL_EXECUTORS": 62,
                  "TOTAL_EXECUTOR_DURATION_MINT": 19.04805,
                  "TOTAL_SMALL_JOBS": 40,
                  "index": 131
                },
                {
                  "DT": "2020-09-02T11:00:00Z",
                  "TOTAL_EXECUTORS": 64,
                  "TOTAL_EXECUTOR_DURATION_MINT": 19.7828,
                  "TOTAL_SMALL_JOBS": 42,
                  "index": 132
                },
                {
                  "DT": "2020-09-09T10:00:00Z",
                  "TOTAL_EXECUTORS": 280,
                  "TOTAL_EXECUTOR_DURATION_MINT": 150.5243333333,
                  "TOTAL_SMALL_JOBS": 59,
                  "index": 133
                },
                {
                  "DT": "2020-09-09T11:00:00Z",
                  "TOTAL_EXECUTORS": 48,
                  "TOTAL_EXECUTOR_DURATION_MINT": 12.0292333333,
                  "TOTAL_SMALL_JOBS": 45,
                  "index": 134
                },
                {
                  "DT": "2020-09-09T12:00:00Z",
                  "TOTAL_EXECUTORS": 83,
                  "TOTAL_EXECUTOR_DURATION_MINT": 25.62055,
                  "TOTAL_SMALL_JOBS": 60,
                  "index": 135
                },
                {
                  "DT": "2020-09-02T13:00:00Z",
                  "TOTAL_EXECUTORS": 53,
                  "TOTAL_EXECUTOR_DURATION_MINT": 13.7645,
                  "TOTAL_SMALL_JOBS": 48,
                  "index": 136
                },
                {
                  "DT": "2020-09-09T13:00:00Z",
                  "TOTAL_EXECUTORS": 84,
                  "TOTAL_EXECUTOR_DURATION_MINT": 24.43255,
                  "TOTAL_SMALL_JOBS": 59,
                  "index": 137
                },
                {
                  "DT": "2020-09-09T14:00:00Z",
                  "TOTAL_EXECUTORS": 87,
                  "TOTAL_EXECUTOR_DURATION_MINT": 22.1576166667,
                  "TOTAL_SMALL_JOBS": 83,
                  "index": 138
                },
                {
                  "DT": "2020-09-09T15:00:00Z",
                  "TOTAL_EXECUTORS": 91,
                  "TOTAL_EXECUTOR_DURATION_MINT": 26.985,
                  "TOTAL_SMALL_JOBS": 68,
                  "index": 139
                },
                {
                  "DT": "2020-09-09T16:00:00Z",
                  "TOTAL_EXECUTORS": 68,
                  "TOTAL_EXECUTOR_DURATION_MINT": 17.8376166667,
                  "TOTAL_SMALL_JOBS": 62,
                  "index": 140
                },
                {
                  "DT": "2020-09-02T15:00:00Z",
                  "TOTAL_EXECUTORS": 71,
                  "TOTAL_EXECUTOR_DURATION_MINT": 21.1252166667,
                  "TOTAL_SMALL_JOBS": 49,
                  "index": 141
                },
                {
                  "DT": "2020-09-09T17:00:00Z",
                  "TOTAL_EXECUTORS": 70,
                  "TOTAL_EXECUTOR_DURATION_MINT": 17.8573666667,
                  "TOTAL_SMALL_JOBS": 66,
                  "index": 142
                },
                {
                  "DT": "2020-09-02T16:00:00Z",
                  "TOTAL_EXECUTORS": 76,
                  "TOTAL_EXECUTOR_DURATION_MINT": 22.7168166667,
                  "TOTAL_SMALL_JOBS": 52,
                  "index": 143
                },
                {
                  "DT": "2020-09-09T18:00:00Z",
                  "TOTAL_EXECUTORS": 75,
                  "TOTAL_EXECUTOR_DURATION_MINT": 19.1911,
                  "TOTAL_SMALL_JOBS": 71,
                  "index": 144
                },
                {
                  "DT": "2020-09-09T19:00:00Z",
                  "TOTAL_EXECUTORS": 66,
                  "TOTAL_EXECUTOR_DURATION_MINT": 17.0628,
                  "TOTAL_SMALL_JOBS": 59,
                  "index": 145
                },
                {
                  "DT": "2020-09-02T17:00:00Z",
                  "TOTAL_EXECUTORS": 77,
                  "TOTAL_EXECUTOR_DURATION_MINT": 22.8043666667,
                  "TOTAL_SMALL_JOBS": 55,
                  "index": 146
                },
                {
                  "DT": "2020-09-09T20:00:00Z",
                  "TOTAL_EXECUTORS": 70,
                  "TOTAL_EXECUTOR_DURATION_MINT": 18.4816833333,
                  "TOTAL_SMALL_JOBS": 66,
                  "index": 147
                },
                {
                  "DT": "2020-09-09T21:00:00Z",
                  "TOTAL_EXECUTORS": 89,
                  "TOTAL_EXECUTOR_DURATION_MINT": 26.0890333333,
                  "TOTAL_SMALL_JOBS": 66,
                  "index": 148
                },
                {
                  "DT": "2020-09-09T22:00:00Z",
                  "TOTAL_EXECUTORS": 76,
                  "TOTAL_EXECUTOR_DURATION_MINT": 19.47985,
                  "TOTAL_SMALL_JOBS": 76,
                  "index": 149
                },
                {
                  "DT": "2020-09-09T23:00:00Z",
                  "TOTAL_EXECUTORS": 44,
                  "TOTAL_EXECUTOR_DURATION_MINT": 11.2384333333,
                  "TOTAL_SMALL_JOBS": 44,
                  "index": 150
                },
                {
                  "DT": "2020-09-02T20:00:00Z",
                  "TOTAL_EXECUTORS": 85,
                  "TOTAL_EXECUTOR_DURATION_MINT": 25.3446666667,
                  "TOTAL_SMALL_JOBS": 63,
                  "index": 151
                },
                {
                  "DT": "2020-09-02T21:00:00Z",
                  "TOTAL_EXECUTORS": 85,
                  "TOTAL_EXECUTOR_DURATION_MINT": 25.2130333333,
                  "TOTAL_SMALL_JOBS": 63,
                  "index": 152
                },
                {
                  "DT": "2020-09-02T22:00:00Z",
                  "TOTAL_EXECUTORS": 80,
                  "TOTAL_EXECUTOR_DURATION_MINT": 20.3811333333,
                  "TOTAL_SMALL_JOBS": 75,
                  "index": 153
                },
                {
                  "DT": "2020-09-03T00:00:00Z",
                  "TOTAL_EXECUTORS": 54,
                  "TOTAL_EXECUTOR_DURATION_MINT": 14.7422666667,
                  "TOTAL_SMALL_JOBS": 51,
                  "index": 154
                },
                {
                  "DT": "2020-09-03T02:00:00Z",
                  "TOTAL_EXECUTORS": 96,
                  "TOTAL_EXECUTOR_DURATION_MINT": 27.1856666667,
                  "TOTAL_SMALL_JOBS": 74,
                  "index": 155
                },
                {
                  "DT": "2020-09-03T03:00:00Z",
                  "TOTAL_EXECUTORS": 78,
                  "TOTAL_EXECUTOR_DURATION_MINT": 23.4799333333,
                  "TOTAL_SMALL_JOBS": 56,
                  "index": 156
                },
                {
                  "DT": "2020-09-03T04:00:00Z",
                  "TOTAL_EXECUTORS": 82,
                  "TOTAL_EXECUTOR_DURATION_MINT": 25.1024333333,
                  "TOTAL_SMALL_JOBS": 58,
                  "index": 157
                },
                {
                  "DT": "2020-09-03T05:00:00Z",
                  "TOTAL_EXECUTORS": 80,
                  "TOTAL_EXECUTOR_DURATION_MINT": 23.1492666667,
                  "TOTAL_SMALL_JOBS": 58,
                  "index": 158
                },
                {
                  "DT": "2020-09-03T06:00:00Z",
                  "TOTAL_EXECUTORS": 73,
                  "TOTAL_EXECUTOR_DURATION_MINT": 18.86305,
                  "TOTAL_SMALL_JOBS": 70,
                  "index": 159
                },
                {
                  "DT": "2020-09-03T07:00:00Z",
                  "TOTAL_EXECUTORS": 61,
                  "TOTAL_EXECUTOR_DURATION_MINT": 15.6248166667,
                  "TOTAL_SMALL_JOBS": 56,
                  "index": 160
                },
                {
                  "DT": "2020-09-03T08:00:00Z",
                  "TOTAL_EXECUTORS": 108,
                  "TOTAL_EXECUTOR_DURATION_MINT": 30.7766833333,
                  "TOTAL_SMALL_JOBS": 86,
                  "index": 161
                },
                {
                  "DT": "2020-09-03T09:00:00Z",
                  "TOTAL_EXECUTORS": 58,
                  "TOTAL_EXECUTOR_DURATION_MINT": 15.23155,
                  "TOTAL_SMALL_JOBS": 55,
                  "index": 162
                },
                {
                  "DT": "2020-09-03T10:00:00Z",
                  "TOTAL_EXECUTORS": 58,
                  "TOTAL_EXECUTOR_DURATION_MINT": 14.7068333333,
                  "TOTAL_SMALL_JOBS": 53,
                  "index": 163
                },
                {
                  "DT": "2020-09-03T11:00:00Z",
                  "TOTAL_EXECUTORS": 71,
                  "TOTAL_EXECUTOR_DURATION_MINT": 21.4989333333,
                  "TOTAL_SMALL_JOBS": 49,
                  "index": 164
                },
                {
                  "DT": "2020-09-03T13:00:00Z",
                  "TOTAL_EXECUTORS": 73,
                  "TOTAL_EXECUTOR_DURATION_MINT": 21.94175,
                  "TOTAL_SMALL_JOBS": 49,
                  "index": 165
                },
                {
                  "DT": "2020-09-03T15:00:00Z",
                  "TOTAL_EXECUTORS": 72,
                  "TOTAL_EXECUTOR_DURATION_MINT": 21.5926,
                  "TOTAL_SMALL_JOBS": 50,
                  "index": 166
                },
                {
                  "DT": "2020-09-03T16:00:00Z",
                  "TOTAL_EXECUTORS": 76,
                  "TOTAL_EXECUTOR_DURATION_MINT": 22.6216833333,
                  "TOTAL_SMALL_JOBS": 52,
                  "index": 167
                },
                {
                  "DT": "2020-09-03T19:00:00Z",
                  "TOTAL_EXECUTORS": 86,
                  "TOTAL_EXECUTOR_DURATION_MINT": 25.39885,
                  "TOTAL_SMALL_JOBS": 62,
                  "index": 168
                },
                {
                  "DT": "2020-09-03T20:00:00Z",
                  "TOTAL_EXECUTORS": 98,
                  "TOTAL_EXECUTOR_DURATION_MINT": 28.85035,
                  "TOTAL_SMALL_JOBS": 76,
                  "index": 169
                },
                {
                  "DT": "2020-09-03T21:00:00Z",
                  "TOTAL_EXECUTORS": 96,
                  "TOTAL_EXECUTOR_DURATION_MINT": 27.6806666667,
                  "TOTAL_SMALL_JOBS": 74,
                  "index": 170
                },
                {
                  "DT": "2020-09-03T23:00:00Z",
                  "TOTAL_EXECUTORS": 13,
                  "TOTAL_EXECUTOR_DURATION_MINT": 3.46445,
                  "TOTAL_SMALL_JOBS": 10,
                  "index": 171
                },
                {
                  "DT": "2020-09-04T03:00:00Z",
                  "TOTAL_EXECUTORS": 83,
                  "TOTAL_EXECUTOR_DURATION_MINT": 23.8044333333,
                  "TOTAL_SMALL_JOBS": 64,
                  "index": 172
                },
                {
                  "DT": "2020-09-04T04:00:00Z",
                  "TOTAL_EXECUTORS": 76,
                  "TOTAL_EXECUTOR_DURATION_MINT": 23.5945166667,
                  "TOTAL_SMALL_JOBS": 52,
                  "index": 173
                },
                {
                  "DT": "2020-09-04T05:00:00Z",
                  "TOTAL_EXECUTORS": 56,
                  "TOTAL_EXECUTOR_DURATION_MINT": 13.80195,
                  "TOTAL_SMALL_JOBS": 53,
                  "index": 174
                },
                {
                  "DT": "2020-09-04T08:00:00Z",
                  "TOTAL_EXECUTORS": 87,
                  "TOTAL_EXECUTOR_DURATION_MINT": 26.24215,
                  "TOTAL_SMALL_JOBS": 65,
                  "index": 175
                },
                {
                  "DT": "2020-09-04T09:00:00Z",
                  "TOTAL_EXECUTORS": 78,
                  "TOTAL_EXECUTOR_DURATION_MINT": 22.7875166667,
                  "TOTAL_SMALL_JOBS": 56,
                  "index": 176
                },
                {
                  "DT": "2020-09-04T10:00:00Z",
                  "TOTAL_EXECUTORS": 60,
                  "TOTAL_EXECUTOR_DURATION_MINT": 18.8326666667,
                  "TOTAL_SMALL_JOBS": 36,
                  "index": 177
                },
                {
                  "DT": "2020-09-04T11:00:00Z",
                  "TOTAL_EXECUTORS": 55,
                  "TOTAL_EXECUTOR_DURATION_MINT": 14.0319333333,
                  "TOTAL_SMALL_JOBS": 51,
                  "index": 178
                },
                {
                  "DT": "2020-09-04T12:00:00Z",
                  "TOTAL_EXECUTORS": 54,
                  "TOTAL_EXECUTOR_DURATION_MINT": 14.734,
                  "TOTAL_SMALL_JOBS": 50,
                  "index": 179
                },
                {
                  "DT": "2020-09-04T13:00:00Z",
                  "TOTAL_EXECUTORS": 51,
                  "TOTAL_EXECUTOR_DURATION_MINT": 13.0749333333,
                  "TOTAL_SMALL_JOBS": 45,
                  "index": 180
                },
                {
                  "DT": "2020-09-04T14:00:00Z",
                  "TOTAL_EXECUTORS": 91,
                  "TOTAL_EXECUTOR_DURATION_MINT": 26.7941333333,
                  "TOTAL_SMALL_JOBS": 68,
                  "index": 181
                },
                {
                  "DT": "2020-09-04T15:00:00Z",
                  "TOTAL_EXECUTORS": 75,
                  "TOTAL_EXECUTOR_DURATION_MINT": 22.7600666667,
                  "TOTAL_SMALL_JOBS": 52,
                  "index": 182
                },
                {
                  "DT": "2020-09-04T16:00:00Z",
                  "TOTAL_EXECUTORS": 79,
                  "TOTAL_EXECUTOR_DURATION_MINT": 24.2981,
                  "TOTAL_SMALL_JOBS": 54,
                  "index": 183
                },
                {
                  "DT": "2020-09-04T17:00:00Z",
                  "TOTAL_EXECUTORS": 79,
                  "TOTAL_EXECUTOR_DURATION_MINT": 23.5345666667,
                  "TOTAL_SMALL_JOBS": 56,
                  "index": 184
                },
                {
                  "DT": "2020-09-04T18:00:00Z",
                  "TOTAL_EXECUTORS": 69,
                  "TOTAL_EXECUTOR_DURATION_MINT": 17.3919666667,
                  "TOTAL_SMALL_JOBS": 66,
                  "index": 185
                },
                {
                  "DT": "2020-09-04T21:00:00Z",
                  "TOTAL_EXECUTORS": 148,
                  "TOTAL_EXECUTOR_DURATION_MINT": 61.5263666667,
                  "TOTAL_SMALL_JOBS": 68,
                  "index": 186
                },
                {
                  "DT": "2020-09-04T22:00:00Z",
                  "TOTAL_EXECUTORS": 87,
                  "TOTAL_EXECUTOR_DURATION_MINT": 26.6505166667,
                  "TOTAL_SMALL_JOBS": 63,
                  "index": 187
                },
                {
                  "DT": "2020-09-04T23:00:00Z",
                  "TOTAL_EXECUTORS": 73,
                  "TOTAL_EXECUTOR_DURATION_MINT": 21.52455,
                  "TOTAL_SMALL_JOBS": 51,
                  "index": 188
                },
                {
                  "DT": "2020-09-05T02:00:00Z",
                  "TOTAL_EXECUTORS": 90,
                  "TOTAL_EXECUTOR_DURATION_MINT": 25.0458666667,
                  "TOTAL_SMALL_JOBS": 67,
                  "index": 189
                }
              ],
              "schema": {
                "fields": [
                  {
                    "name": "index",
                    "type": "integer"
                  },
                  {
                    "name": "TOTAL_SMALL_JOBS",
                    "type": "integer"
                  },
                  {
                    "name": "TOTAL_EXECUTORS",
                    "type": "integer"
                  },
                  {
                    "name": "TOTAL_EXECUTOR_DURATION_MINT",
                    "type": "number"
                  },
                  {
                    "name": "DT",
                    "type": "string"
                  }
                ],
                "pandas_version": "0.20.0",
                "primaryKey": [
                  "index"
                ]
              }
            },
            "text/html": "<div>\n<style scoped>\n    .dataframe tbody tr th:only-of-type {\n        vertical-align: middle;\n    }\n\n    .dataframe tbody tr th {\n        vertical-align: top;\n    }\n\n    .dataframe thead th {\n        text-align: right;\n    }\n</style>\n<table border=\"1\" class=\"dataframe\">\n  <thead>\n    <tr style=\"text-align: right;\">\n      <th></th>\n      <th>TOTAL_SMALL_JOBS</th>\n      <th>TOTAL_EXECUTORS</th>\n      <th>TOTAL_EXECUTOR_DURATION_MINT</th>\n      <th>DT</th>\n    </tr>\n  </thead>\n  <tbody>\n    <tr>\n      <th>0</th>\n      <td>71</td>\n      <td>90</td>\n      <td>25.178717</td>\n      <td>2020-09-02T06:00:00Z</td>\n    </tr>\n    <tr>\n      <th>1</th>\n      <td>62</td>\n      <td>84</td>\n      <td>23.510133</td>\n      <td>2020-09-02T08:00:00Z</td>\n    </tr>\n    <tr>\n      <th>2</th>\n      <td>52</td>\n      <td>75</td>\n      <td>23.417550</td>\n      <td>2020-09-02T12:00:00Z</td>\n    </tr>\n    <tr>\n      <th>3</th>\n      <td>72</td>\n      <td>94</td>\n      <td>26.984650</td>\n      <td>2020-09-02T14:00:00Z</td>\n    </tr>\n    <tr>\n      <th>4</th>\n      <td>68</td>\n      <td>139</td>\n      <td>53.693133</td>\n      <td>2020-09-02T18:00:00Z</td>\n    </tr>\n    <tr>\n      <th>5</th>\n      <td>55</td>\n      <td>79</td>\n      <td>23.815750</td>\n      <td>2020-09-02T19:00:00Z</td>\n    </tr>\n    <tr>\n      <th>6</th>\n      <td>59</td>\n      <td>81</td>\n      <td>23.342233</td>\n      <td>2020-09-02T23:00:00Z</td>\n    </tr>\n    <tr>\n      <th>7</th>\n      <td>61</td>\n      <td>85</td>\n      <td>25.031617</td>\n      <td>2020-09-03T01:00:00Z</td>\n    </tr>\n    <tr>\n      <th>8</th>\n      <td>66</td>\n      <td>88</td>\n      <td>26.744817</td>\n      <td>2020-09-03T12:00:00Z</td>\n    </tr>\n    <tr>\n      <th>9</th>\n      <td>67</td>\n      <td>89</td>\n      <td>25.910050</td>\n      <td>2020-09-03T14:00:00Z</td>\n    </tr>\n    <tr>\n      <th>10</th>\n      <td>52</td>\n      <td>74</td>\n      <td>22.005983</td>\n      <td>2020-09-03T17:00:00Z</td>\n    </tr>\n    <tr>\n      <th>11</th>\n      <td>60</td>\n      <td>82</td>\n      <td>24.370700</td>\n      <td>2020-09-03T18:00:00Z</td>\n    </tr>\n    <tr>\n      <th>12</th>\n      <td>65</td>\n      <td>87</td>\n      <td>25.190550</td>\n      <td>2020-09-03T22:00:00Z</td>\n    </tr>\n    <tr>\n      <th>13</th>\n      <td>114</td>\n      <td>152</td>\n      <td>45.061717</td>\n      <td>2020-09-04T02:00:00Z</td>\n    </tr>\n    <tr>\n      <th>14</th>\n      <td>52</td>\n      <td>74</td>\n      <td>20.444683</td>\n      <td>2020-09-04T06:00:00Z</td>\n    </tr>\n    <tr>\n      <th>15</th>\n      <td>48</td>\n      <td>72</td>\n      <td>21.770317</td>\n      <td>2020-09-04T07:00:00Z</td>\n    </tr>\n    <tr>\n      <th>16</th>\n      <td>53</td>\n      <td>59</td>\n      <td>15.606450</td>\n      <td>2020-09-04T19:00:00Z</td>\n    </tr>\n    <tr>\n      <th>17</th>\n      <td>63</td>\n      <td>67</td>\n      <td>18.455750</td>\n      <td>2020-09-04T20:00:00Z</td>\n    </tr>\n    <tr>\n      <th>18</th>\n      <td>53</td>\n      <td>57</td>\n      <td>14.696133</td>\n      <td>2020-09-05T00:00:00Z</td>\n    </tr>\n    <tr>\n      <th>19</th>\n      <td>57</td>\n      <td>82</td>\n      <td>24.242033</td>\n      <td>2020-09-05T01:00:00Z</td>\n    </tr>\n    <tr>\n      <th>20</th>\n      <td>56</td>\n      <td>60</td>\n      <td>14.975817</td>\n      <td>2020-09-05T03:00:00Z</td>\n    </tr>\n    <tr>\n      <th>21</th>\n      <td>52</td>\n      <td>76</td>\n      <td>22.600417</td>\n      <td>2020-09-05T04:00:00Z</td>\n    </tr>\n    <tr>\n      <th>22</th>\n      <td>55</td>\n      <td>78</td>\n      <td>23.261717</td>\n      <td>2020-09-05T05:00:00Z</td>\n    </tr>\n    <tr>\n      <th>23</th>\n      <td>55</td>\n      <td>78</td>\n      <td>22.435033</td>\n      <td>2020-09-05T06:00:00Z</td>\n    </tr>\n    <tr>\n      <th>24</th>\n      <td>50</td>\n      <td>75</td>\n      <td>22.415800</td>\n      <td>2020-09-05T07:00:00Z</td>\n    </tr>\n    <tr>\n      <th>25</th>\n      <td>73</td>\n      <td>96</td>\n      <td>28.506183</td>\n      <td>2020-09-05T08:00:00Z</td>\n    </tr>\n    <tr>\n      <th>26</th>\n      <td>57</td>\n      <td>80</td>\n      <td>24.247033</td>\n      <td>2020-09-05T09:00:00Z</td>\n    </tr>\n    <tr>\n      <th>27</th>\n      <td>49</td>\n      <td>74</td>\n      <td>22.401250</td>\n      <td>2020-09-05T10:00:00Z</td>\n    </tr>\n    <tr>\n      <th>28</th>\n      <td>47</td>\n      <td>70</td>\n      <td>21.122000</td>\n      <td>2020-09-05T11:00:00Z</td>\n    </tr>\n    <tr>\n      <th>29</th>\n      <td>53</td>\n      <td>57</td>\n      <td>15.516683</td>\n      <td>2020-09-05T12:00:00Z</td>\n    </tr>\n    <tr>\n      <th>30</th>\n      <td>49</td>\n      <td>55</td>\n      <td>14.068800</td>\n      <td>2020-09-05T13:00:00Z</td>\n    </tr>\n    <tr>\n      <th>31</th>\n      <td>73</td>\n      <td>96</td>\n      <td>27.373767</td>\n      <td>2020-09-05T14:00:00Z</td>\n    </tr>\n    <tr>\n      <th>32</th>\n      <td>54</td>\n      <td>77</td>\n      <td>22.747533</td>\n      <td>2020-09-05T15:00:00Z</td>\n    </tr>\n    <tr>\n      <th>33</th>\n      <td>54</td>\n      <td>78</td>\n      <td>23.933767</td>\n      <td>2020-09-05T16:00:00Z</td>\n    </tr>\n    <tr>\n      <th>34</th>\n      <td>53</td>\n      <td>76</td>\n      <td>22.375733</td>\n      <td>2020-09-05T17:00:00Z</td>\n    </tr>\n    <tr>\n      <th>35</th>\n      <td>64</td>\n      <td>87</td>\n      <td>25.243583</td>\n      <td>2020-09-05T18:00:00Z</td>\n    </tr>\n    <tr>\n      <th>36</th>\n      <td>58</td>\n      <td>82</td>\n      <td>23.759383</td>\n      <td>2020-09-05T19:00:00Z</td>\n    </tr>\n    <tr>\n      <th>37</th>\n      <td>72</td>\n      <td>95</td>\n      <td>27.241000</td>\n      <td>2020-09-05T20:00:00Z</td>\n    </tr>\n    <tr>\n      <th>38</th>\n      <td>70</td>\n      <td>74</td>\n      <td>19.011617</td>\n      <td>2020-09-05T21:00:00Z</td>\n    </tr>\n    <tr>\n      <th>39</th>\n      <td>70</td>\n      <td>95</td>\n      <td>27.702850</td>\n      <td>2020-09-05T22:00:00Z</td>\n    </tr>\n    <tr>\n      <th>40</th>\n      <td>54</td>\n      <td>58</td>\n      <td>14.805583</td>\n      <td>2020-09-05T23:00:00Z</td>\n    </tr>\n    <tr>\n      <th>41</th>\n      <td>57</td>\n      <td>80</td>\n      <td>23.822183</td>\n      <td>2020-09-06T00:00:00Z</td>\n    </tr>\n    <tr>\n      <th>42</th>\n      <td>56</td>\n      <td>62</td>\n      <td>15.751867</td>\n      <td>2020-09-06T01:00:00Z</td>\n    </tr>\n    <tr>\n      <th>43</th>\n      <td>72</td>\n      <td>95</td>\n      <td>26.956083</td>\n      <td>2020-09-06T02:00:00Z</td>\n    </tr>\n    <tr>\n      <th>44</th>\n      <td>59</td>\n      <td>82</td>\n      <td>22.911983</td>\n      <td>2020-09-06T03:00:00Z</td>\n    </tr>\n    <tr>\n      <th>45</th>\n      <td>55</td>\n      <td>80</td>\n      <td>24.065317</td>\n      <td>2020-09-06T04:00:00Z</td>\n    </tr>\n    <tr>\n      <th>46</th>\n      <td>55</td>\n      <td>78</td>\n      <td>23.754867</td>\n      <td>2020-09-06T05:00:00Z</td>\n    </tr>\n    <tr>\n      <th>47</th>\n      <td>50</td>\n      <td>54</td>\n      <td>13.356950</td>\n      <td>2020-09-06T06:00:00Z</td>\n    </tr>\n    <tr>\n      <th>48</th>\n      <td>53</td>\n      <td>78</td>\n      <td>23.067600</td>\n      <td>2020-09-06T07:00:00Z</td>\n    </tr>\n    <tr>\n      <th>49</th>\n      <td>70</td>\n      <td>93</td>\n      <td>27.712033</td>\n      <td>2020-09-06T08:00:00Z</td>\n    </tr>\n    <tr>\n      <th>50</th>\n      <td>60</td>\n      <td>83</td>\n      <td>26.399900</td>\n      <td>2020-09-06T09:00:00Z</td>\n    </tr>\n    <tr>\n      <th>51</th>\n      <td>58</td>\n      <td>83</td>\n      <td>24.740900</td>\n      <td>2020-09-06T10:00:00Z</td>\n    </tr>\n    <tr>\n      <th>52</th>\n      <td>47</td>\n      <td>70</td>\n      <td>21.388450</td>\n      <td>2020-09-06T11:00:00Z</td>\n    </tr>\n    <tr>\n      <th>53</th>\n      <td>54</td>\n      <td>58</td>\n      <td>15.635950</td>\n      <td>2020-09-06T12:00:00Z</td>\n    </tr>\n    <tr>\n      <th>54</th>\n      <td>50</td>\n      <td>73</td>\n      <td>22.516017</td>\n      <td>2020-09-06T13:00:00Z</td>\n    </tr>\n    <tr>\n      <th>55</th>\n      <td>70</td>\n      <td>93</td>\n      <td>26.925650</td>\n      <td>2020-09-06T14:00:00Z</td>\n    </tr>\n    <tr>\n      <th>56</th>\n      <td>55</td>\n      <td>78</td>\n      <td>24.277617</td>\n      <td>2020-09-06T15:00:00Z</td>\n    </tr>\n    <tr>\n      <th>57</th>\n      <td>55</td>\n      <td>79</td>\n      <td>24.816917</td>\n      <td>2020-09-06T16:00:00Z</td>\n    </tr>\n    <tr>\n      <th>58</th>\n      <td>58</td>\n      <td>81</td>\n      <td>23.497917</td>\n      <td>2020-09-06T17:00:00Z</td>\n    </tr>\n    <tr>\n      <th>59</th>\n      <td>64</td>\n      <td>68</td>\n      <td>17.669417</td>\n      <td>2020-09-06T18:00:00Z</td>\n    </tr>\n    <tr>\n      <th>60</th>\n      <td>60</td>\n      <td>84</td>\n      <td>24.868733</td>\n      <td>2020-09-06T19:00:00Z</td>\n    </tr>\n    <tr>\n      <th>61</th>\n      <td>66</td>\n      <td>70</td>\n      <td>17.950750</td>\n      <td>2020-09-06T20:00:00Z</td>\n    </tr>\n    <tr>\n      <th>62</th>\n      <td>66</td>\n      <td>70</td>\n      <td>18.019300</td>\n      <td>2020-09-06T21:00:00Z</td>\n    </tr>\n    <tr>\n      <th>63</th>\n      <td>69</td>\n      <td>94</td>\n      <td>26.530083</td>\n      <td>2020-09-06T22:00:00Z</td>\n    </tr>\n    <tr>\n      <th>64</th>\n      <td>54</td>\n      <td>58</td>\n      <td>14.597250</td>\n      <td>2020-09-06T23:00:00Z</td>\n    </tr>\n    <tr>\n      <th>65</th>\n      <td>52</td>\n      <td>75</td>\n      <td>22.292050</td>\n      <td>2020-09-07T00:00:00Z</td>\n    </tr>\n    <tr>\n      <th>66</th>\n      <td>59</td>\n      <td>65</td>\n      <td>16.953050</td>\n      <td>2020-09-07T01:00:00Z</td>\n    </tr>\n    <tr>\n      <th>67</th>\n      <td>70</td>\n      <td>93</td>\n      <td>26.935817</td>\n      <td>2020-09-07T02:00:00Z</td>\n    </tr>\n    <tr>\n      <th>68</th>\n      <td>63</td>\n      <td>86</td>\n      <td>24.705967</td>\n      <td>2020-09-07T03:00:00Z</td>\n    </tr>\n    <tr>\n      <th>69</th>\n      <td>55</td>\n      <td>80</td>\n      <td>23.840683</td>\n      <td>2020-09-07T04:00:00Z</td>\n    </tr>\n    <tr>\n      <th>70</th>\n      <td>59</td>\n      <td>82</td>\n      <td>24.686967</td>\n      <td>2020-09-07T05:00:00Z</td>\n    </tr>\n    <tr>\n      <th>71</th>\n      <td>62</td>\n      <td>114</td>\n      <td>37.789767</td>\n      <td>2020-09-07T06:00:00Z</td>\n    </tr>\n    <tr>\n      <th>72</th>\n      <td>48</td>\n      <td>54</td>\n      <td>13.705417</td>\n      <td>2020-09-07T07:00:00Z</td>\n    </tr>\n    <tr>\n      <th>73</th>\n      <td>68</td>\n      <td>91</td>\n      <td>26.368300</td>\n      <td>2020-09-07T08:00:00Z</td>\n    </tr>\n    <tr>\n      <th>74</th>\n      <td>56</td>\n      <td>79</td>\n      <td>23.913600</td>\n      <td>2020-09-07T09:00:00Z</td>\n    </tr>\n    <tr>\n      <th>75</th>\n      <td>49</td>\n      <td>74</td>\n      <td>21.144083</td>\n      <td>2020-09-07T10:00:00Z</td>\n    </tr>\n    <tr>\n      <th>76</th>\n      <td>46</td>\n      <td>69</td>\n      <td>20.799950</td>\n      <td>2020-09-07T11:00:00Z</td>\n    </tr>\n    <tr>\n      <th>77</th>\n      <td>53</td>\n      <td>76</td>\n      <td>23.772667</td>\n      <td>2020-09-07T12:00:00Z</td>\n    </tr>\n    <tr>\n      <th>78</th>\n      <td>50</td>\n      <td>75</td>\n      <td>22.363683</td>\n      <td>2020-09-07T13:00:00Z</td>\n    </tr>\n    <tr>\n      <th>79</th>\n      <td>74</td>\n      <td>97</td>\n      <td>28.119983</td>\n      <td>2020-09-07T14:00:00Z</td>\n    </tr>\n    <tr>\n      <th>80</th>\n      <td>53</td>\n      <td>76</td>\n      <td>21.609067</td>\n      <td>2020-09-07T15:00:00Z</td>\n    </tr>\n    <tr>\n      <th>81</th>\n      <td>56</td>\n      <td>81</td>\n      <td>24.479050</td>\n      <td>2020-09-07T16:00:00Z</td>\n    </tr>\n    <tr>\n      <th>82</th>\n      <td>59</td>\n      <td>82</td>\n      <td>24.014017</td>\n      <td>2020-09-07T17:00:00Z</td>\n    </tr>\n    <tr>\n      <th>83</th>\n      <td>71</td>\n      <td>94</td>\n      <td>27.450200</td>\n      <td>2020-09-07T18:00:00Z</td>\n    </tr>\n    <tr>\n      <th>84</th>\n      <td>59</td>\n      <td>84</td>\n      <td>24.395533</td>\n      <td>2020-09-07T19:00:00Z</td>\n    </tr>\n    <tr>\n      <th>85</th>\n      <td>70</td>\n      <td>93</td>\n      <td>27.693917</td>\n      <td>2020-09-07T20:00:00Z</td>\n    </tr>\n    <tr>\n      <th>86</th>\n      <td>73</td>\n      <td>96</td>\n      <td>27.729750</td>\n      <td>2020-09-07T21:00:00Z</td>\n    </tr>\n    <tr>\n      <th>87</th>\n      <td>75</td>\n      <td>100</td>\n      <td>29.106917</td>\n      <td>2020-09-07T22:00:00Z</td>\n    </tr>\n    <tr>\n      <th>88</th>\n      <td>54</td>\n      <td>58</td>\n      <td>15.023433</td>\n      <td>2020-09-07T23:00:00Z</td>\n    </tr>\n    <tr>\n      <th>89</th>\n      <td>58</td>\n      <td>81</td>\n      <td>25.193500</td>\n      <td>2020-09-08T00:00:00Z</td>\n    </tr>\n    <tr>\n      <th>90</th>\n      <td>61</td>\n      <td>67</td>\n      <td>17.077717</td>\n      <td>2020-09-08T01:00:00Z</td>\n    </tr>\n    <tr>\n      <th>91</th>\n      <td>73</td>\n      <td>77</td>\n      <td>19.897983</td>\n      <td>2020-09-08T02:00:00Z</td>\n    </tr>\n    <tr>\n      <th>92</th>\n      <td>62</td>\n      <td>65</td>\n      <td>16.692683</td>\n      <td>2020-09-08T03:00:00Z</td>\n    </tr>\n    <tr>\n      <th>93</th>\n      <td>54</td>\n      <td>60</td>\n      <td>15.594600</td>\n      <td>2020-09-08T04:00:00Z</td>\n    </tr>\n    <tr>\n      <th>94</th>\n      <td>59</td>\n      <td>82</td>\n      <td>23.191783</td>\n      <td>2020-09-08T05:00:00Z</td>\n    </tr>\n    <tr>\n      <th>95</th>\n      <td>52</td>\n      <td>75</td>\n      <td>22.313500</td>\n      <td>2020-09-08T06:00:00Z</td>\n    </tr>\n    <tr>\n      <th>96</th>\n      <td>46</td>\n      <td>52</td>\n      <td>13.424733</td>\n      <td>2020-09-08T07:00:00Z</td>\n    </tr>\n    <tr>\n      <th>97</th>\n      <td>76</td>\n      <td>196</td>\n      <td>76.083583</td>\n      <td>2020-09-08T08:00:00Z</td>\n    </tr>\n    <tr>\n      <th>98</th>\n      <td>61</td>\n      <td>84</td>\n      <td>24.594333</td>\n      <td>2020-09-08T09:00:00Z</td>\n    </tr>\n    <tr>\n      <th>99</th>\n      <td>60</td>\n      <td>83</td>\n      <td>23.765567</td>\n      <td>2020-09-08T10:00:00Z</td>\n    </tr>\n    <tr>\n      <th>100</th>\n      <td>52</td>\n      <td>75</td>\n      <td>22.764550</td>\n      <td>2020-09-08T11:00:00Z</td>\n    </tr>\n    <tr>\n      <th>101</th>\n      <td>51</td>\n      <td>74</td>\n      <td>23.522033</td>\n      <td>2020-09-08T12:00:00Z</td>\n    </tr>\n    <tr>\n      <th>102</th>\n      <td>52</td>\n      <td>77</td>\n      <td>22.843267</td>\n      <td>2020-09-08T13:00:00Z</td>\n    </tr>\n    <tr>\n      <th>103</th>\n      <td>82</td>\n      <td>105</td>\n      <td>30.414033</td>\n      <td>2020-09-08T14:00:00Z</td>\n    </tr>\n    <tr>\n      <th>104</th>\n      <td>57</td>\n      <td>61</td>\n      <td>15.782717</td>\n      <td>2020-09-08T15:00:00Z</td>\n    </tr>\n    <tr>\n      <th>105</th>\n      <td>49</td>\n      <td>69</td>\n      <td>21.517450</td>\n      <td>2020-09-02T00:00:00Z</td>\n    </tr>\n    <tr>\n      <th>106</th>\n      <td>56</td>\n      <td>81</td>\n      <td>24.627183</td>\n      <td>2020-09-08T16:00:00Z</td>\n    </tr>\n    <tr>\n      <th>107</th>\n      <td>60</td>\n      <td>64</td>\n      <td>16.189100</td>\n      <td>2020-09-08T17:00:00Z</td>\n    </tr>\n    <tr>\n      <th>108</th>\n      <td>55</td>\n      <td>76</td>\n      <td>22.220833</td>\n      <td>2020-09-02T01:00:00Z</td>\n    </tr>\n    <tr>\n      <th>109</th>\n      <td>72</td>\n      <td>95</td>\n      <td>26.792600</td>\n      <td>2020-09-08T18:00:00Z</td>\n    </tr>\n    <tr>\n      <th>110</th>\n      <td>64</td>\n      <td>64</td>\n      <td>16.215250</td>\n      <td>2020-09-02T02:00:00Z</td>\n    </tr>\n    <tr>\n      <th>111</th>\n      <td>58</td>\n      <td>64</td>\n      <td>16.143883</td>\n      <td>2020-09-08T19:00:00Z</td>\n    </tr>\n    <tr>\n      <th>112</th>\n      <td>52</td>\n      <td>71</td>\n      <td>20.641300</td>\n      <td>2020-09-02T03:00:00Z</td>\n    </tr>\n    <tr>\n      <th>113</th>\n      <td>68</td>\n      <td>72</td>\n      <td>18.507900</td>\n      <td>2020-09-08T20:00:00Z</td>\n    </tr>\n    <tr>\n      <th>114</th>\n      <td>67</td>\n      <td>90</td>\n      <td>25.720400</td>\n      <td>2020-09-08T21:00:00Z</td>\n    </tr>\n    <tr>\n      <th>115</th>\n      <td>50</td>\n      <td>71</td>\n      <td>20.903550</td>\n      <td>2020-09-02T04:00:00Z</td>\n    </tr>\n    <tr>\n      <th>116</th>\n      <td>74</td>\n      <td>99</td>\n      <td>27.881533</td>\n      <td>2020-09-08T22:00:00Z</td>\n    </tr>\n    <tr>\n      <th>117</th>\n      <td>54</td>\n      <td>77</td>\n      <td>22.293683</td>\n      <td>2020-09-08T23:00:00Z</td>\n    </tr>\n    <tr>\n      <th>118</th>\n      <td>56</td>\n      <td>75</td>\n      <td>21.673717</td>\n      <td>2020-09-02T05:00:00Z</td>\n    </tr>\n    <tr>\n      <th>119</th>\n      <td>59</td>\n      <td>82</td>\n      <td>24.674533</td>\n      <td>2020-09-09T00:00:00Z</td>\n    </tr>\n    <tr>\n      <th>120</th>\n      <td>58</td>\n      <td>83</td>\n      <td>24.535950</td>\n      <td>2020-09-09T01:00:00Z</td>\n    </tr>\n    <tr>\n      <th>121</th>\n      <td>73</td>\n      <td>96</td>\n      <td>27.636400</td>\n      <td>2020-09-09T02:00:00Z</td>\n    </tr>\n    <tr>\n      <th>122</th>\n      <td>56</td>\n      <td>79</td>\n      <td>23.723650</td>\n      <td>2020-09-09T03:00:00Z</td>\n    </tr>\n    <tr>\n      <th>123</th>\n      <td>49</td>\n      <td>76</td>\n      <td>23.603167</td>\n      <td>2020-09-02T07:00:00Z</td>\n    </tr>\n    <tr>\n      <th>124</th>\n      <td>60</td>\n      <td>85</td>\n      <td>25.375200</td>\n      <td>2020-09-09T04:00:00Z</td>\n    </tr>\n    <tr>\n      <th>125</th>\n      <td>58</td>\n      <td>61</td>\n      <td>15.553583</td>\n      <td>2020-09-09T05:00:00Z</td>\n    </tr>\n    <tr>\n      <th>126</th>\n      <td>61</td>\n      <td>84</td>\n      <td>24.271083</td>\n      <td>2020-09-09T06:00:00Z</td>\n    </tr>\n    <tr>\n      <th>127</th>\n      <td>52</td>\n      <td>74</td>\n      <td>21.928433</td>\n      <td>2020-09-02T09:00:00Z</td>\n    </tr>\n    <tr>\n      <th>128</th>\n      <td>49</td>\n      <td>55</td>\n      <td>14.165633</td>\n      <td>2020-09-09T07:00:00Z</td>\n    </tr>\n    <tr>\n      <th>129</th>\n      <td>69</td>\n      <td>92</td>\n      <td>27.604433</td>\n      <td>2020-09-09T08:00:00Z</td>\n    </tr>\n    <tr>\n      <th>130</th>\n      <td>63</td>\n      <td>86</td>\n      <td>25.031933</td>\n      <td>2020-09-09T09:00:00Z</td>\n    </tr>\n    <tr>\n      <th>131</th>\n      <td>40</td>\n      <td>62</td>\n      <td>19.048050</td>\n      <td>2020-09-02T10:00:00Z</td>\n    </tr>\n    <tr>\n      <th>132</th>\n      <td>42</td>\n      <td>64</td>\n      <td>19.782800</td>\n      <td>2020-09-02T11:00:00Z</td>\n    </tr>\n    <tr>\n      <th>133</th>\n      <td>59</td>\n      <td>280</td>\n      <td>150.524333</td>\n      <td>2020-09-09T10:00:00Z</td>\n    </tr>\n    <tr>\n      <th>134</th>\n      <td>45</td>\n      <td>48</td>\n      <td>12.029233</td>\n      <td>2020-09-09T11:00:00Z</td>\n    </tr>\n    <tr>\n      <th>135</th>\n      <td>60</td>\n      <td>83</td>\n      <td>25.620550</td>\n      <td>2020-09-09T12:00:00Z</td>\n    </tr>\n    <tr>\n      <th>136</th>\n      <td>48</td>\n      <td>53</td>\n      <td>13.764500</td>\n      <td>2020-09-02T13:00:00Z</td>\n    </tr>\n    <tr>\n      <th>137</th>\n      <td>59</td>\n      <td>84</td>\n      <td>24.432550</td>\n      <td>2020-09-09T13:00:00Z</td>\n    </tr>\n    <tr>\n      <th>138</th>\n      <td>83</td>\n      <td>87</td>\n      <td>22.157617</td>\n      <td>2020-09-09T14:00:00Z</td>\n    </tr>\n    <tr>\n      <th>139</th>\n      <td>68</td>\n      <td>91</td>\n      <td>26.985000</td>\n      <td>2020-09-09T15:00:00Z</td>\n    </tr>\n    <tr>\n      <th>140</th>\n      <td>62</td>\n      <td>68</td>\n      <td>17.837617</td>\n      <td>2020-09-09T16:00:00Z</td>\n    </tr>\n    <tr>\n      <th>141</th>\n      <td>49</td>\n      <td>71</td>\n      <td>21.125217</td>\n      <td>2020-09-02T15:00:00Z</td>\n    </tr>\n    <tr>\n      <th>142</th>\n      <td>66</td>\n      <td>70</td>\n      <td>17.857367</td>\n      <td>2020-09-09T17:00:00Z</td>\n    </tr>\n    <tr>\n      <th>143</th>\n      <td>52</td>\n      <td>76</td>\n      <td>22.716817</td>\n      <td>2020-09-02T16:00:00Z</td>\n    </tr>\n    <tr>\n      <th>144</th>\n      <td>71</td>\n      <td>75</td>\n      <td>19.191100</td>\n      <td>2020-09-09T18:00:00Z</td>\n    </tr>\n    <tr>\n      <th>145</th>\n      <td>59</td>\n      <td>66</td>\n      <td>17.062800</td>\n      <td>2020-09-09T19:00:00Z</td>\n    </tr>\n    <tr>\n      <th>146</th>\n      <td>55</td>\n      <td>77</td>\n      <td>22.804367</td>\n      <td>2020-09-02T17:00:00Z</td>\n    </tr>\n    <tr>\n      <th>147</th>\n      <td>66</td>\n      <td>70</td>\n      <td>18.481683</td>\n      <td>2020-09-09T20:00:00Z</td>\n    </tr>\n    <tr>\n      <th>148</th>\n      <td>66</td>\n      <td>89</td>\n      <td>26.089033</td>\n      <td>2020-09-09T21:00:00Z</td>\n    </tr>\n    <tr>\n      <th>149</th>\n      <td>76</td>\n      <td>76</td>\n      <td>19.479850</td>\n      <td>2020-09-09T22:00:00Z</td>\n    </tr>\n    <tr>\n      <th>150</th>\n      <td>44</td>\n      <td>44</td>\n      <td>11.238433</td>\n      <td>2020-09-09T23:00:00Z</td>\n    </tr>\n    <tr>\n      <th>151</th>\n      <td>63</td>\n      <td>85</td>\n      <td>25.344667</td>\n      <td>2020-09-02T20:00:00Z</td>\n    </tr>\n    <tr>\n      <th>152</th>\n      <td>63</td>\n      <td>85</td>\n      <td>25.213033</td>\n      <td>2020-09-02T21:00:00Z</td>\n    </tr>\n    <tr>\n      <th>153</th>\n      <td>75</td>\n      <td>80</td>\n      <td>20.381133</td>\n      <td>2020-09-02T22:00:00Z</td>\n    </tr>\n    <tr>\n      <th>154</th>\n      <td>51</td>\n      <td>54</td>\n      <td>14.742267</td>\n      <td>2020-09-03T00:00:00Z</td>\n    </tr>\n    <tr>\n      <th>155</th>\n      <td>74</td>\n      <td>96</td>\n      <td>27.185667</td>\n      <td>2020-09-03T02:00:00Z</td>\n    </tr>\n    <tr>\n      <th>156</th>\n      <td>56</td>\n      <td>78</td>\n      <td>23.479933</td>\n      <td>2020-09-03T03:00:00Z</td>\n    </tr>\n    <tr>\n      <th>157</th>\n      <td>58</td>\n      <td>82</td>\n      <td>25.102433</td>\n      <td>2020-09-03T04:00:00Z</td>\n    </tr>\n    <tr>\n      <th>158</th>\n      <td>58</td>\n      <td>80</td>\n      <td>23.149267</td>\n      <td>2020-09-03T05:00:00Z</td>\n    </tr>\n    <tr>\n      <th>159</th>\n      <td>70</td>\n      <td>73</td>\n      <td>18.863050</td>\n      <td>2020-09-03T06:00:00Z</td>\n    </tr>\n    <tr>\n      <th>160</th>\n      <td>56</td>\n      <td>61</td>\n      <td>15.624817</td>\n      <td>2020-09-03T07:00:00Z</td>\n    </tr>\n    <tr>\n      <th>161</th>\n      <td>86</td>\n      <td>108</td>\n      <td>30.776683</td>\n      <td>2020-09-03T08:00:00Z</td>\n    </tr>\n    <tr>\n      <th>162</th>\n      <td>55</td>\n      <td>58</td>\n      <td>15.231550</td>\n      <td>2020-09-03T09:00:00Z</td>\n    </tr>\n    <tr>\n      <th>163</th>\n      <td>53</td>\n      <td>58</td>\n      <td>14.706833</td>\n      <td>2020-09-03T10:00:00Z</td>\n    </tr>\n    <tr>\n      <th>164</th>\n      <td>49</td>\n      <td>71</td>\n      <td>21.498933</td>\n      <td>2020-09-03T11:00:00Z</td>\n    </tr>\n    <tr>\n      <th>165</th>\n      <td>49</td>\n      <td>73</td>\n      <td>21.941750</td>\n      <td>2020-09-03T13:00:00Z</td>\n    </tr>\n    <tr>\n      <th>166</th>\n      <td>50</td>\n      <td>72</td>\n      <td>21.592600</td>\n      <td>2020-09-03T15:00:00Z</td>\n    </tr>\n    <tr>\n      <th>167</th>\n      <td>52</td>\n      <td>76</td>\n      <td>22.621683</td>\n      <td>2020-09-03T16:00:00Z</td>\n    </tr>\n    <tr>\n      <th>168</th>\n      <td>62</td>\n      <td>86</td>\n      <td>25.398850</td>\n      <td>2020-09-03T19:00:00Z</td>\n    </tr>\n    <tr>\n      <th>169</th>\n      <td>76</td>\n      <td>98</td>\n      <td>28.850350</td>\n      <td>2020-09-03T20:00:00Z</td>\n    </tr>\n    <tr>\n      <th>170</th>\n      <td>74</td>\n      <td>96</td>\n      <td>27.680667</td>\n      <td>2020-09-03T21:00:00Z</td>\n    </tr>\n    <tr>\n      <th>171</th>\n      <td>10</td>\n      <td>13</td>\n      <td>3.464450</td>\n      <td>2020-09-03T23:00:00Z</td>\n    </tr>\n    <tr>\n      <th>172</th>\n      <td>64</td>\n      <td>83</td>\n      <td>23.804433</td>\n      <td>2020-09-04T03:00:00Z</td>\n    </tr>\n    <tr>\n      <th>173</th>\n      <td>52</td>\n      <td>76</td>\n      <td>23.594517</td>\n      <td>2020-09-04T04:00:00Z</td>\n    </tr>\n    <tr>\n      <th>174</th>\n      <td>53</td>\n      <td>56</td>\n      <td>13.801950</td>\n      <td>2020-09-04T05:00:00Z</td>\n    </tr>\n    <tr>\n      <th>175</th>\n      <td>65</td>\n      <td>87</td>\n      <td>26.242150</td>\n      <td>2020-09-04T08:00:00Z</td>\n    </tr>\n    <tr>\n      <th>176</th>\n      <td>56</td>\n      <td>78</td>\n      <td>22.787517</td>\n      <td>2020-09-04T09:00:00Z</td>\n    </tr>\n    <tr>\n      <th>177</th>\n      <td>36</td>\n      <td>60</td>\n      <td>18.832667</td>\n      <td>2020-09-04T10:00:00Z</td>\n    </tr>\n    <tr>\n      <th>178</th>\n      <td>51</td>\n      <td>55</td>\n      <td>14.031933</td>\n      <td>2020-09-04T11:00:00Z</td>\n    </tr>\n    <tr>\n      <th>179</th>\n      <td>50</td>\n      <td>54</td>\n      <td>14.734000</td>\n      <td>2020-09-04T12:00:00Z</td>\n    </tr>\n    <tr>\n      <th>180</th>\n      <td>45</td>\n      <td>51</td>\n      <td>13.074933</td>\n      <td>2020-09-04T13:00:00Z</td>\n    </tr>\n    <tr>\n      <th>181</th>\n      <td>68</td>\n      <td>91</td>\n      <td>26.794133</td>\n      <td>2020-09-04T14:00:00Z</td>\n    </tr>\n    <tr>\n      <th>182</th>\n      <td>52</td>\n      <td>75</td>\n      <td>22.760067</td>\n      <td>2020-09-04T15:00:00Z</td>\n    </tr>\n    <tr>\n      <th>183</th>\n      <td>54</td>\n      <td>79</td>\n      <td>24.298100</td>\n      <td>2020-09-04T16:00:00Z</td>\n    </tr>\n    <tr>\n      <th>184</th>\n      <td>56</td>\n      <td>79</td>\n      <td>23.534567</td>\n      <td>2020-09-04T17:00:00Z</td>\n    </tr>\n    <tr>\n      <th>185</th>\n      <td>66</td>\n      <td>69</td>\n      <td>17.391967</td>\n      <td>2020-09-04T18:00:00Z</td>\n    </tr>\n    <tr>\n      <th>186</th>\n      <td>68</td>\n      <td>148</td>\n      <td>61.526367</td>\n      <td>2020-09-04T21:00:00Z</td>\n    </tr>\n    <tr>\n      <th>187</th>\n      <td>63</td>\n      <td>87</td>\n      <td>26.650517</td>\n      <td>2020-09-04T22:00:00Z</td>\n    </tr>\n    <tr>\n      <th>188</th>\n      <td>51</td>\n      <td>73</td>\n      <td>21.524550</td>\n      <td>2020-09-04T23:00:00Z</td>\n    </tr>\n    <tr>\n      <th>189</th>\n      <td>67</td>\n      <td>90</td>\n      <td>25.045867</td>\n      <td>2020-09-05T02:00:00Z</td>\n    </tr>\n  </tbody>\n</table>\n</div>",
            "text/plain": "     TOTAL_SMALL_JOBS  TOTAL_EXECUTORS  TOTAL_EXECUTOR_DURATION_MINT  \\\n0                  71               90                     25.178717   \n1                  62               84                     23.510133   \n2                  52               75                     23.417550   \n3                  72               94                     26.984650   \n4                  68              139                     53.693133   \n5                  55               79                     23.815750   \n6                  59               81                     23.342233   \n7                  61               85                     25.031617   \n8                  66               88                     26.744817   \n9                  67               89                     25.910050   \n10                 52               74                     22.005983   \n11                 60               82                     24.370700   \n12                 65               87                     25.190550   \n13                114              152                     45.061717   \n14                 52               74                     20.444683   \n15                 48               72                     21.770317   \n16                 53               59                     15.606450   \n17                 63               67                     18.455750   \n18                 53               57                     14.696133   \n19                 57               82                     24.242033   \n20                 56               60                     14.975817   \n21                 52               76                     22.600417   \n22                 55               78                     23.261717   \n23                 55               78                     22.435033   \n24                 50               75                     22.415800   \n25                 73               96                     28.506183   \n26                 57               80                     24.247033   \n27                 49               74                     22.401250   \n28                 47               70                     21.122000   \n29                 53               57                     15.516683   \n30                 49               55                     14.068800   \n31                 73               96                     27.373767   \n32                 54               77                     22.747533   \n33                 54               78                     23.933767   \n34                 53               76                     22.375733   \n35                 64               87                     25.243583   \n36                 58               82                     23.759383   \n37                 72               95                     27.241000   \n38                 70               74                     19.011617   \n39                 70               95                     27.702850   \n40                 54               58                     14.805583   \n41                 57               80                     23.822183   \n42                 56               62                     15.751867   \n43                 72               95                     26.956083   \n44                 59               82                     22.911983   \n45                 55               80                     24.065317   \n46                 55               78                     23.754867   \n47                 50               54                     13.356950   \n48                 53               78                     23.067600   \n49                 70               93                     27.712033   \n50                 60               83                     26.399900   \n51                 58               83                     24.740900   \n52                 47               70                     21.388450   \n53                 54               58                     15.635950   \n54                 50               73                     22.516017   \n55                 70               93                     26.925650   \n56                 55               78                     24.277617   \n57                 55               79                     24.816917   \n58                 58               81                     23.497917   \n59                 64               68                     17.669417   \n60                 60               84                     24.868733   \n61                 66               70                     17.950750   \n62                 66               70                     18.019300   \n63                 69               94                     26.530083   \n64                 54               58                     14.597250   \n65                 52               75                     22.292050   \n66                 59               65                     16.953050   \n67                 70               93                     26.935817   \n68                 63               86                     24.705967   \n69                 55               80                     23.840683   \n70                 59               82                     24.686967   \n71                 62              114                     37.789767   \n72                 48               54                     13.705417   \n73                 68               91                     26.368300   \n74                 56               79                     23.913600   \n75                 49               74                     21.144083   \n76                 46               69                     20.799950   \n77                 53               76                     23.772667   \n78                 50               75                     22.363683   \n79                 74               97                     28.119983   \n80                 53               76                     21.609067   \n81                 56               81                     24.479050   \n82                 59               82                     24.014017   \n83                 71               94                     27.450200   \n84                 59               84                     24.395533   \n85                 70               93                     27.693917   \n86                 73               96                     27.729750   \n87                 75              100                     29.106917   \n88                 54               58                     15.023433   \n89                 58               81                     25.193500   \n90                 61               67                     17.077717   \n91                 73               77                     19.897983   \n92                 62               65                     16.692683   \n93                 54               60                     15.594600   \n94                 59               82                     23.191783   \n95                 52               75                     22.313500   \n96                 46               52                     13.424733   \n97                 76              196                     76.083583   \n98                 61               84                     24.594333   \n99                 60               83                     23.765567   \n100                52               75                     22.764550   \n101                51               74                     23.522033   \n102                52               77                     22.843267   \n103                82              105                     30.414033   \n104                57               61                     15.782717   \n105                49               69                     21.517450   \n106                56               81                     24.627183   \n107                60               64                     16.189100   \n108                55               76                     22.220833   \n109                72               95                     26.792600   \n110                64               64                     16.215250   \n111                58               64                     16.143883   \n112                52               71                     20.641300   \n113                68               72                     18.507900   \n114                67               90                     25.720400   \n115                50               71                     20.903550   \n116                74               99                     27.881533   \n117                54               77                     22.293683   \n118                56               75                     21.673717   \n119                59               82                     24.674533   \n120                58               83                     24.535950   \n121                73               96                     27.636400   \n122                56               79                     23.723650   \n123                49               76                     23.603167   \n124                60               85                     25.375200   \n125                58               61                     15.553583   \n126                61               84                     24.271083   \n127                52               74                     21.928433   \n128                49               55                     14.165633   \n129                69               92                     27.604433   \n130                63               86                     25.031933   \n131                40               62                     19.048050   \n132                42               64                     19.782800   \n133                59              280                    150.524333   \n134                45               48                     12.029233   \n135                60               83                     25.620550   \n136                48               53                     13.764500   \n137                59               84                     24.432550   \n138                83               87                     22.157617   \n139                68               91                     26.985000   \n140                62               68                     17.837617   \n141                49               71                     21.125217   \n142                66               70                     17.857367   \n143                52               76                     22.716817   \n144                71               75                     19.191100   \n145                59               66                     17.062800   \n146                55               77                     22.804367   \n147                66               70                     18.481683   \n148                66               89                     26.089033   \n149                76               76                     19.479850   \n150                44               44                     11.238433   \n151                63               85                     25.344667   \n152                63               85                     25.213033   \n153                75               80                     20.381133   \n154                51               54                     14.742267   \n155                74               96                     27.185667   \n156                56               78                     23.479933   \n157                58               82                     25.102433   \n158                58               80                     23.149267   \n159                70               73                     18.863050   \n160                56               61                     15.624817   \n161                86              108                     30.776683   \n162                55               58                     15.231550   \n163                53               58                     14.706833   \n164                49               71                     21.498933   \n165                49               73                     21.941750   \n166                50               72                     21.592600   \n167                52               76                     22.621683   \n168                62               86                     25.398850   \n169                76               98                     28.850350   \n170                74               96                     27.680667   \n171                10               13                      3.464450   \n172                64               83                     23.804433   \n173                52               76                     23.594517   \n174                53               56                     13.801950   \n175                65               87                     26.242150   \n176                56               78                     22.787517   \n177                36               60                     18.832667   \n178                51               55                     14.031933   \n179                50               54                     14.734000   \n180                45               51                     13.074933   \n181                68               91                     26.794133   \n182                52               75                     22.760067   \n183                54               79                     24.298100   \n184                56               79                     23.534567   \n185                66               69                     17.391967   \n186                68              148                     61.526367   \n187                63               87                     26.650517   \n188                51               73                     21.524550   \n189                67               90                     25.045867   \n\n                       DT  \n0    2020-09-02T06:00:00Z  \n1    2020-09-02T08:00:00Z  \n2    2020-09-02T12:00:00Z  \n3    2020-09-02T14:00:00Z  \n4    2020-09-02T18:00:00Z  \n5    2020-09-02T19:00:00Z  \n6    2020-09-02T23:00:00Z  \n7    2020-09-03T01:00:00Z  \n8    2020-09-03T12:00:00Z  \n9    2020-09-03T14:00:00Z  \n10   2020-09-03T17:00:00Z  \n11   2020-09-03T18:00:00Z  \n12   2020-09-03T22:00:00Z  \n13   2020-09-04T02:00:00Z  \n14   2020-09-04T06:00:00Z  \n15   2020-09-04T07:00:00Z  \n16   2020-09-04T19:00:00Z  \n17   2020-09-04T20:00:00Z  \n18   2020-09-05T00:00:00Z  \n19   2020-09-05T01:00:00Z  \n20   2020-09-05T03:00:00Z  \n21   2020-09-05T04:00:00Z  \n22   2020-09-05T05:00:00Z  \n23   2020-09-05T06:00:00Z  \n24   2020-09-05T07:00:00Z  \n25   2020-09-05T08:00:00Z  \n26   2020-09-05T09:00:00Z  \n27   2020-09-05T10:00:00Z  \n28   2020-09-05T11:00:00Z  \n29   2020-09-05T12:00:00Z  \n30   2020-09-05T13:00:00Z  \n31   2020-09-05T14:00:00Z  \n32   2020-09-05T15:00:00Z  \n33   2020-09-05T16:00:00Z  \n34   2020-09-05T17:00:00Z  \n35   2020-09-05T18:00:00Z  \n36   2020-09-05T19:00:00Z  \n37   2020-09-05T20:00:00Z  \n38   2020-09-05T21:00:00Z  \n39   2020-09-05T22:00:00Z  \n40   2020-09-05T23:00:00Z  \n41   2020-09-06T00:00:00Z  \n42   2020-09-06T01:00:00Z  \n43   2020-09-06T02:00:00Z  \n44   2020-09-06T03:00:00Z  \n45   2020-09-06T04:00:00Z  \n46   2020-09-06T05:00:00Z  \n47   2020-09-06T06:00:00Z  \n48   2020-09-06T07:00:00Z  \n49   2020-09-06T08:00:00Z  \n50   2020-09-06T09:00:00Z  \n51   2020-09-06T10:00:00Z  \n52   2020-09-06T11:00:00Z  \n53   2020-09-06T12:00:00Z  \n54   2020-09-06T13:00:00Z  \n55   2020-09-06T14:00:00Z  \n56   2020-09-06T15:00:00Z  \n57   2020-09-06T16:00:00Z  \n58   2020-09-06T17:00:00Z  \n59   2020-09-06T18:00:00Z  \n60   2020-09-06T19:00:00Z  \n61   2020-09-06T20:00:00Z  \n62   2020-09-06T21:00:00Z  \n63   2020-09-06T22:00:00Z  \n64   2020-09-06T23:00:00Z  \n65   2020-09-07T00:00:00Z  \n66   2020-09-07T01:00:00Z  \n67   2020-09-07T02:00:00Z  \n68   2020-09-07T03:00:00Z  \n69   2020-09-07T04:00:00Z  \n70   2020-09-07T05:00:00Z  \n71   2020-09-07T06:00:00Z  \n72   2020-09-07T07:00:00Z  \n73   2020-09-07T08:00:00Z  \n74   2020-09-07T09:00:00Z  \n75   2020-09-07T10:00:00Z  \n76   2020-09-07T11:00:00Z  \n77   2020-09-07T12:00:00Z  \n78   2020-09-07T13:00:00Z  \n79   2020-09-07T14:00:00Z  \n80   2020-09-07T15:00:00Z  \n81   2020-09-07T16:00:00Z  \n82   2020-09-07T17:00:00Z  \n83   2020-09-07T18:00:00Z  \n84   2020-09-07T19:00:00Z  \n85   2020-09-07T20:00:00Z  \n86   2020-09-07T21:00:00Z  \n87   2020-09-07T22:00:00Z  \n88   2020-09-07T23:00:00Z  \n89   2020-09-08T00:00:00Z  \n90   2020-09-08T01:00:00Z  \n91   2020-09-08T02:00:00Z  \n92   2020-09-08T03:00:00Z  \n93   2020-09-08T04:00:00Z  \n94   2020-09-08T05:00:00Z  \n95   2020-09-08T06:00:00Z  \n96   2020-09-08T07:00:00Z  \n97   2020-09-08T08:00:00Z  \n98   2020-09-08T09:00:00Z  \n99   2020-09-08T10:00:00Z  \n100  2020-09-08T11:00:00Z  \n101  2020-09-08T12:00:00Z  \n102  2020-09-08T13:00:00Z  \n103  2020-09-08T14:00:00Z  \n104  2020-09-08T15:00:00Z  \n105  2020-09-02T00:00:00Z  \n106  2020-09-08T16:00:00Z  \n107  2020-09-08T17:00:00Z  \n108  2020-09-02T01:00:00Z  \n109  2020-09-08T18:00:00Z  \n110  2020-09-02T02:00:00Z  \n111  2020-09-08T19:00:00Z  \n112  2020-09-02T03:00:00Z  \n113  2020-09-08T20:00:00Z  \n114  2020-09-08T21:00:00Z  \n115  2020-09-02T04:00:00Z  \n116  2020-09-08T22:00:00Z  \n117  2020-09-08T23:00:00Z  \n118  2020-09-02T05:00:00Z  \n119  2020-09-09T00:00:00Z  \n120  2020-09-09T01:00:00Z  \n121  2020-09-09T02:00:00Z  \n122  2020-09-09T03:00:00Z  \n123  2020-09-02T07:00:00Z  \n124  2020-09-09T04:00:00Z  \n125  2020-09-09T05:00:00Z  \n126  2020-09-09T06:00:00Z  \n127  2020-09-02T09:00:00Z  \n128  2020-09-09T07:00:00Z  \n129  2020-09-09T08:00:00Z  \n130  2020-09-09T09:00:00Z  \n131  2020-09-02T10:00:00Z  \n132  2020-09-02T11:00:00Z  \n133  2020-09-09T10:00:00Z  \n134  2020-09-09T11:00:00Z  \n135  2020-09-09T12:00:00Z  \n136  2020-09-02T13:00:00Z  \n137  2020-09-09T13:00:00Z  \n138  2020-09-09T14:00:00Z  \n139  2020-09-09T15:00:00Z  \n140  2020-09-09T16:00:00Z  \n141  2020-09-02T15:00:00Z  \n142  2020-09-09T17:00:00Z  \n143  2020-09-02T16:00:00Z  \n144  2020-09-09T18:00:00Z  \n145  2020-09-09T19:00:00Z  \n146  2020-09-02T17:00:00Z  \n147  2020-09-09T20:00:00Z  \n148  2020-09-09T21:00:00Z  \n149  2020-09-09T22:00:00Z  \n150  2020-09-09T23:00:00Z  \n151  2020-09-02T20:00:00Z  \n152  2020-09-02T21:00:00Z  \n153  2020-09-02T22:00:00Z  \n154  2020-09-03T00:00:00Z  \n155  2020-09-03T02:00:00Z  \n156  2020-09-03T03:00:00Z  \n157  2020-09-03T04:00:00Z  \n158  2020-09-03T05:00:00Z  \n159  2020-09-03T06:00:00Z  \n160  2020-09-03T07:00:00Z  \n161  2020-09-03T08:00:00Z  \n162  2020-09-03T09:00:00Z  \n163  2020-09-03T10:00:00Z  \n164  2020-09-03T11:00:00Z  \n165  2020-09-03T13:00:00Z  \n166  2020-09-03T15:00:00Z  \n167  2020-09-03T16:00:00Z  \n168  2020-09-03T19:00:00Z  \n169  2020-09-03T20:00:00Z  \n170  2020-09-03T21:00:00Z  \n171  2020-09-03T23:00:00Z  \n172  2020-09-04T03:00:00Z  \n173  2020-09-04T04:00:00Z  \n174  2020-09-04T05:00:00Z  \n175  2020-09-04T08:00:00Z  \n176  2020-09-04T09:00:00Z  \n177  2020-09-04T10:00:00Z  \n178  2020-09-04T11:00:00Z  \n179  2020-09-04T12:00:00Z  \n180  2020-09-04T13:00:00Z  \n181  2020-09-04T14:00:00Z  \n182  2020-09-04T15:00:00Z  \n183  2020-09-04T16:00:00Z  \n184  2020-09-04T17:00:00Z  \n185  2020-09-04T18:00:00Z  \n186  2020-09-04T21:00:00Z  \n187  2020-09-04T22:00:00Z  \n188  2020-09-04T23:00:00Z  \n189  2020-09-05T02:00:00Z  "
          },
          "metadata": {
            "application/vnd.dataresource+json": {
              "__altered": false,
              "_root": {
                "entries": [
                  [
                    "__altered",
                    false
                  ],
                  [
                    "_root",
                    {
                      "entries": [
                        [
                          "dx",
                          {
                            "areaType": "hexbin",
                            "barGrouping": "Clustered",
                            "chart": {
                              "dim1": "DT",
                              "dim2": "none",
                              "dim3": "none",
                              "metric1": "TOTAL_SMALL_JOBS",
                              "metric2": "TOTAL_EXECUTORS",
                              "metric3": "none",
                              "metric4": "none",
                              "networkLabel": "none",
                              "timeseriesSort": "array-order"
                            },
                            "colors": [
                              "#DA752E",
                              "#E5C209",
                              "#1441A0",
                              "#B86117",
                              "#4D430C",
                              "#1DB390",
                              "#B3331D",
                              "#088EB2",
                              "#417505",
                              "#E479A8",
                              "#F9F39E",
                              "#5782DC",
                              "#EBA97B",
                              "#A2AB60",
                              "#B291CF",
                              "#8DD2C2",
                              "#E6A19F",
                              "#3DC7E0",
                              "#98CE5B"
                            ],
                            "hierarchyType": "dendrogram",
                            "lineType": "line",
                            "marginalGraphics": "none",
                            "networkType": "force",
                            "pieceType": "bar",
                            "selectedDimensions": [
                              "DT"
                            ],
                            "selectedMetrics": [],
                            "summaryType": "violin",
                            "trendLine": "none",
                            "view": "grid"
                          }
                        ]
                      ],
                      "ownerID": {}
                    }
                  ],
                  [
                    "dx",
                    {
                      "areaType": "hexbin",
                      "barGrouping": "Clustered",
                      "chart": {
                        "dim1": "DT",
                        "dim2": "none",
                        "dim3": "none",
                        "metric1": "TOTAL_SMALL_JOBS",
                        "metric2": "TOTAL_EXECUTORS",
                        "metric3": "none",
                        "metric4": "none",
                        "networkLabel": "none",
                        "timeseriesSort": "array-order"
                      },
                      "colors": [
                        "#DA752E",
                        "#E5C209",
                        "#1441A0",
                        "#B86117",
                        "#4D430C",
                        "#1DB390",
                        "#B3331D",
                        "#088EB2",
                        "#417505",
                        "#E479A8",
                        "#F9F39E",
                        "#5782DC",
                        "#EBA97B",
                        "#A2AB60",
                        "#B291CF",
                        "#8DD2C2",
                        "#E6A19F",
                        "#3DC7E0",
                        "#98CE5B"
                      ],
                      "hierarchyType": "dendrogram",
                      "lineType": "line",
                      "marginalGraphics": "none",
                      "networkType": "force",
                      "pieceType": "bar",
                      "selectedDimensions": [
                        "DT"
                      ],
                      "selectedMetrics": [],
                      "summaryType": "violin",
                      "trendLine": "none",
                      "view": "grid"
                    }
                  ],
                  [
                    "size",
                    1
                  ]
                ],
                "ownerID": {}
              },
              "dx": {
                "areaType": "hexbin",
                "barGrouping": "Clustered",
                "chart": {
                  "dim1": "DT",
                  "dim2": "none",
                  "dim3": "none",
                  "metric1": "TOTAL_SMALL_JOBS",
                  "metric2": "TOTAL_EXECUTORS",
                  "metric3": "none",
                  "metric4": "none",
                  "networkLabel": "none",
                  "timeseriesSort": "array-order"
                },
                "colors": [
                  "#DA752E",
                  "#E5C209",
                  "#1441A0",
                  "#B86117",
                  "#4D430C",
                  "#1DB390",
                  "#B3331D",
                  "#088EB2",
                  "#417505",
                  "#E479A8",
                  "#F9F39E",
                  "#5782DC",
                  "#EBA97B",
                  "#A2AB60",
                  "#B291CF",
                  "#8DD2C2",
                  "#E6A19F",
                  "#3DC7E0",
                  "#98CE5B"
                ],
                "hierarchyType": "dendrogram",
                "lineType": "line",
                "marginalGraphics": "none",
                "networkType": "force",
                "pieceType": "bar",
                "selectedDimensions": [
                  "DT"
                ],
                "selectedMetrics": [],
                "summaryType": "violin",
                "trendLine": "none",
                "view": "grid"
              },
              "size": 4
            }
          },
          "output_type": "display_data"
        }
      ],
      "source": "df_request_count_by_date.to_excel(\"./output.xlsx\")  \npd.options.display.html.table_schema = True\npd.options.display.max_rows = None\ndisplay(df_request_count_by_date)"
    },
    {
      "cell_type": "code",
      "execution_count": 6,
      "metadata": {
        "collapsed": true,
        "execution": {
          "iopub.execute_input": "2020-09-09T21:33:10.689Z",
          "iopub.status.busy": "2020-09-09T21:33:09.745Z",
          "iopub.status.idle": "2020-09-09T21:33:10.742Z",
          "shell.execute_reply": "2020-09-09T21:33:10.786Z"
        },
        "jupyter": {
          "outputs_hidden": false,
          "source_hidden": false
        },
        "nteract": {
          "transient": {
            "deleting": false
          }
        },
        "outputExpanded": false,
        "trusted": false
      },
      "outputs": [
        {
          "data": {
            "text/html": "\r\n<div>\r\n  <style type='text/css' scoped>\r\n.collapsible {\r\n  background-color: #fff;\r\n  color: #0078D4;\r\n  cursor: pointer;\r\n  padding: 10px;\r\n  border: none;\r\n  text-align: left;\r\n  outline: none;\r\n  font-size: 15px;\r\n  border-radius: 5px;\r\n  margin: 5px\r\n}\r\n\r\n.active, .collapsible:hover {\r\n  color: #4db2ff;\r\n}\r\n\r\n.content {\r\n  margin: 2px;\r\n  padding: 0 18px;\r\n  overflow: hidden;\r\n  background-color: #fff;\r\n  height: 0px;\r\n  -moz-transition: height .2s ease-out;\r\n  -ms-transition: height .2s ease-out;\r\n  -o-transition: height .2s ease-out;\r\n  -webkit-transition: height .2s ease-out;\r\n  transition: height .2s ease-out;\r\n}\r\n</style>\r\n\r\n<button type='button' class='collapsible'>▶ View Query Metrics</button>\r\n  \r\n<div class='content'>\r\n  <div class='measuringWrapper'>\r\n    <span style=\"color:#0078D4\"><b>totalExecutionTimeInMs    </b>:    4810.22<br/><b>queryCompileTimeInMs    </b>:    0.8200000000000001<br/><b>queryLogicalPlanBuildTimeInMs    </b>:    0.22<br/><b>queryPhysicalPlanBuildTimeInMs    </b>:    0.18<br/><b>queryOptimizationTimeInMs    </b>:    0.02<br/><b>VMExecutionTimeInMs    </b>:    4807.69<br/><b>indexLookupTimeInMs    </b>:    0.73<br/><b>documentLoadTimeInMs    </b>:    1944.22<br/><b>systemFunctionExecuteTimeInMs    </b>:    2333.48<br/><b>userFunctionExecuteTimeInMs    </b>:    0<br/><b>retrievedDocumentCount    </b>:    159145<br/><b>retrievedDocumentSize    </b>:    541693239<br/><b>outputDocumentCount    </b>:    1761<br/><b>outputDocumentSize    </b>:    379452<br/><b>writeOutputTimeInMs    </b>:    2.7199999999999998<br/><b>averageIndexUtilizationRation    </b>:    0<br/></span>\r\n  </div>\r\n</div>\r\n\r\n<script>\r\nvar coll = document.getElementsByClassName('collapsible');\r\nvar i;\r\n\r\nfor (i = 0; i < coll.length; i++) {\r\n  \r\n  coll[i].addEventListener('click', function() {\r\n    this.classList.toggle('active');\r\n    var content = this.nextElementSibling;\r\n    \r\n    if (content.clientHeight != 0) {\r\n      this.textContent = '▶ View Query Metrics';\r\n      content.style.height = '0px';\r\n    }\r\n    else {\r\n      this.textContent = '▼ Hide Query Metrics';\r\n      content.style.height = content.children[0].clientHeight + 'px';\r\n    }\r\n  });\r\n}\r\n</script>\r\n</div>"
          },
          "metadata": {},
          "output_type": "display_data"
        }
      ],
      "source": "%%sql --database ups_logos --container batch --output df_request_count_by_org_date\nSELECT COUNT(c.id), c.entity.imsOrgId, DateTimeFromParts(2020, \nDateTimePart (\"month\" , TimestampToDateTime(c._ts*1000)), \nDateTimePart (\"day\" , TimestampToDateTime(c._ts*1000)),\nDateTimePart (\"hour\" , TimestampToDateTime(c._ts*1000))\n) AS DT\nFROM c \nWHERE \nDateTimeDiff(\"day\" , TimestampToDateTime(c._ts*1000), GetCurrentDateTime()) <= 7\nAND \nc.entity.siphonMetrics.inputRecordCount <= 10\nGROUP BY \nc.entity.imsOrgId,\nDateTimeFromParts(2020, \nDateTimePart (\"month\" , TimestampToDateTime(c._ts*1000)), \nDateTimePart (\"day\" , TimestampToDateTime(c._ts*1000)),\nDateTimePart (\"hour\" , TimestampToDateTime(c._ts*1000)))"
    },
    {
      "cell_type": "code",
      "execution_count": 4,
      "metadata": {
        "collapsed": true,
        "execution": {
          "iopub.execute_input": "2020-09-09T21:31:12.514Z",
          "iopub.status.busy": "2020-09-09T21:31:12.445Z",
          "iopub.status.idle": "2020-09-09T21:31:12.519Z",
          "shell.execute_reply": "2020-09-09T21:31:12.522Z"
        },
        "jupyter": {
          "outputs_hidden": false,
          "source_hidden": false
        },
        "nteract": {
          "transient": {
            "deleting": false
          }
        },
        "outputExpanded": false,
        "trusted": false
      },
      "outputs": [
        {
          "data": {
            "text/html": "\r\n<div>\r\n  <style type='text/css' scoped>\r\n.collapsible {\r\n  background-color: #fff;\r\n  color: #0078D4;\r\n  cursor: pointer;\r\n  padding: 10px;\r\n  border: none;\r\n  text-align: left;\r\n  outline: none;\r\n  font-size: 15px;\r\n  border-radius: 5px;\r\n  margin: 5px\r\n}\r\n\r\n.active, .collapsible:hover {\r\n  color: #4db2ff;\r\n}\r\n\r\n.content {\r\n  margin: 2px;\r\n  padding: 0 18px;\r\n  overflow: hidden;\r\n  background-color: #fff;\r\n  height: 0px;\r\n  -moz-transition: height .2s ease-out;\r\n  -ms-transition: height .2s ease-out;\r\n  -o-transition: height .2s ease-out;\r\n  -webkit-transition: height .2s ease-out;\r\n  transition: height .2s ease-out;\r\n}\r\n</style>\r\n\r\n<button type='button' class='collapsible'>▶ View Query Metrics</button>\r\n  \r\n<div class='content'>\r\n  <div class='measuringWrapper'>\r\n    <span style=\"color:#0078D4\"><b>totalExecutionTimeInMs    </b>:    4335.13<br/><b>queryCompileTimeInMs    </b>:    0.6100000000000001<br/><b>queryLogicalPlanBuildTimeInMs    </b>:    0.21<br/><b>queryPhysicalPlanBuildTimeInMs    </b>:    0.24<br/><b>queryOptimizationTimeInMs    </b>:    0.02<br/><b>VMExecutionTimeInMs    </b>:    4333.35<br/><b>indexLookupTimeInMs    </b>:    0.64<br/><b>documentLoadTimeInMs    </b>:    1864.99<br/><b>systemFunctionExecuteTimeInMs    </b>:    1977.3<br/><b>userFunctionExecuteTimeInMs    </b>:    0<br/><b>retrievedDocumentCount    </b>:    159141<br/><b>retrievedDocumentSize    </b>:    541686597<br/><b>outputDocumentCount    </b>:    17<br/><b>outputDocumentSize    </b>:    2492<br/><b>writeOutputTimeInMs    </b>:    0.02<br/><b>averageIndexUtilizationRation    </b>:    0<br/></span>\r\n  </div>\r\n</div>\r\n\r\n<script>\r\nvar coll = document.getElementsByClassName('collapsible');\r\nvar i;\r\n\r\nfor (i = 0; i < coll.length; i++) {\r\n  \r\n  coll[i].addEventListener('click', function() {\r\n    this.classList.toggle('active');\r\n    var content = this.nextElementSibling;\r\n    \r\n    if (content.clientHeight != 0) {\r\n      this.textContent = '▶ View Query Metrics';\r\n      content.style.height = '0px';\r\n    }\r\n    else {\r\n      this.textContent = '▼ Hide Query Metrics';\r\n      content.style.height = content.children[0].clientHeight + 'px';\r\n    }\r\n  });\r\n}\r\n</script>\r\n</div>"
          },
          "metadata": {},
          "output_type": "display_data"
        }
      ],
      "source": "%%sql --database ups_logos --container batch --output df_request_count_by_org\nSELECT COUNT(c.id), c.entity.imsOrgId\nFROM c \nWHERE \nDateTimeDiff(\"day\" , TimestampToDateTime(c._ts*1000), GetCurrentDateTime()) <= 7\nAND \nc.entity.siphonMetrics.inputRecordCount <= 10\nGROUP BY \nc.entity.imsOrgId\n"
    },
    {
      "cell_type": "code",
      "execution_count": 5,
      "metadata": {
        "collapsed": true,
        "execution": {
          "iopub.execute_input": "2020-09-09T21:31:33.795Z",
          "iopub.status.busy": "2020-09-09T21:31:33.748Z",
          "iopub.status.idle": "2020-09-09T21:31:33.831Z",
          "shell.execute_reply": "2020-09-09T21:31:33.835Z"
        },
        "jupyter": {
          "outputs_hidden": false,
          "source_hidden": false
        },
        "nteract": {
          "transient": {
            "deleting": false
          }
        },
        "outputExpanded": false,
        "trusted": false
      },
      "outputs": [
        {
          "data": {
            "text/html": "<div>\n<style scoped>\n    .dataframe tbody tr th:only-of-type {\n        vertical-align: middle;\n    }\n\n    .dataframe tbody tr th {\n        vertical-align: top;\n    }\n\n    .dataframe thead th {\n        text-align: right;\n    }\n</style>\n<table border=\"1\" class=\"dataframe\">\n  <thead>\n    <tr style=\"text-align: right;\">\n      <th></th>\n      <th>$1</th>\n      <th>imsOrgId</th>\n    </tr>\n  </thead>\n  <tbody>\n    <tr>\n      <th>0</th>\n      <td>3476</td>\n      <td>391274515EC415BF0A494107@AdobeOrg</td>\n    </tr>\n    <tr>\n      <th>1</th>\n      <td>3017</td>\n      <td>65E00FF95DCCA20F0A494224@AdobeOrg</td>\n    </tr>\n    <tr>\n      <th>2</th>\n      <td>3325</td>\n      <td>7A5147645D8926B00A494224@AdobeOrg</td>\n    </tr>\n    <tr>\n      <th>3</th>\n      <td>303</td>\n      <td>1E7872AB5AC541EB0A494110@AdobeOrg</td>\n    </tr>\n    <tr>\n      <th>4</th>\n      <td>3011</td>\n      <td>26F34DC85EC421AC0A49421C@AdobeOrg</td>\n    </tr>\n    <tr>\n      <th>5</th>\n      <td>537</td>\n      <td>660932FC5AFCB4C50A494209@AdobeOrg</td>\n    </tr>\n    <tr>\n      <th>6</th>\n      <td>252</td>\n      <td>746206205EE3CC220A494121@AdobeOrg</td>\n    </tr>\n    <tr>\n      <th>7</th>\n      <td>742</td>\n      <td>691E60375EE3B2BD0A494135@AdobeOrg</td>\n    </tr>\n    <tr>\n      <th>8</th>\n      <td>26</td>\n      <td>78CA75CA5EE3DC580A494039@AdobeOrg</td>\n    </tr>\n    <tr>\n      <th>9</th>\n      <td>5</td>\n      <td>C3FF17A55CB58A4D0A494229@AdobeOrg</td>\n    </tr>\n    <tr>\n      <th>10</th>\n      <td>716</td>\n      <td>A99B6A045DA8B6320A494233@AdobeOrg</td>\n    </tr>\n    <tr>\n      <th>11</th>\n      <td>111</td>\n      <td>5555467B5D8013E50A494220@AdobeOrg</td>\n    </tr>\n    <tr>\n      <th>12</th>\n      <td>268</td>\n      <td>496E32FB5BC75C420A494233@AdobeOrg</td>\n    </tr>\n    <tr>\n      <th>13</th>\n      <td>2</td>\n      <td>B38825185F3CE88E0A494010@AdobeOrg</td>\n    </tr>\n    <tr>\n      <th>14</th>\n      <td>6</td>\n      <td>975140B85B85E2360A494120@AdobeOrg</td>\n    </tr>\n  </tbody>\n</table>\n</div>",
            "text/plain": "      $1                           imsOrgId\n0   3476  391274515EC415BF0A494107@AdobeOrg\n1   3017  65E00FF95DCCA20F0A494224@AdobeOrg\n2   3325  7A5147645D8926B00A494224@AdobeOrg\n3    303  1E7872AB5AC541EB0A494110@AdobeOrg\n4   3011  26F34DC85EC421AC0A49421C@AdobeOrg\n5    537  660932FC5AFCB4C50A494209@AdobeOrg\n6    252  746206205EE3CC220A494121@AdobeOrg\n7    742  691E60375EE3B2BD0A494135@AdobeOrg\n8     26  78CA75CA5EE3DC580A494039@AdobeOrg\n9      5  C3FF17A55CB58A4D0A494229@AdobeOrg\n10   716  A99B6A045DA8B6320A494233@AdobeOrg\n11   111  5555467B5D8013E50A494220@AdobeOrg\n12   268  496E32FB5BC75C420A494233@AdobeOrg\n13     2  B38825185F3CE88E0A494010@AdobeOrg\n14     6  975140B85B85E2360A494120@AdobeOrg"
          },
          "execution_count": 5,
          "metadata": {},
          "output_type": "execute_result"
        }
      ],
      "source": "df_request_count_by_org.head(100)"
    },
    {
      "cell_type": "code",
      "execution_count": 7,
      "metadata": {
        "collapsed": true,
        "execution": {
          "iopub.execute_input": "2020-09-09T21:33:18.018Z",
          "iopub.status.busy": "2020-09-09T21:33:17.959Z",
          "iopub.status.idle": "2020-09-09T21:33:18.062Z",
          "shell.execute_reply": "2020-09-09T21:33:18.066Z"
        },
        "jupyter": {
          "outputs_hidden": false,
          "source_hidden": false
        },
        "nteract": {
          "transient": {
            "deleting": false
          }
        },
        "outputExpanded": false,
        "trusted": false
      },
      "outputs": [
        {
          "data": {
            "text/html": "<div>\n<style scoped>\n    .dataframe tbody tr th:only-of-type {\n        vertical-align: middle;\n    }\n\n    .dataframe tbody tr th {\n        vertical-align: top;\n    }\n\n    .dataframe thead th {\n        text-align: right;\n    }\n</style>\n<table border=\"1\" class=\"dataframe\">\n  <thead>\n    <tr style=\"text-align: right;\">\n      <th></th>\n      <th>$1</th>\n      <th>imsOrgId</th>\n      <th>DT</th>\n    </tr>\n  </thead>\n  <tbody>\n    <tr>\n      <th>0</th>\n      <td>16</td>\n      <td>391274515EC415BF0A494107@AdobeOrg</td>\n      <td>2020-09-02T00:00:00Z</td>\n    </tr>\n    <tr>\n      <th>1</th>\n      <td>10</td>\n      <td>391274515EC415BF0A494107@AdobeOrg</td>\n      <td>2020-09-02T01:00:00Z</td>\n    </tr>\n    <tr>\n      <th>2</th>\n      <td>10</td>\n      <td>391274515EC415BF0A494107@AdobeOrg</td>\n      <td>2020-09-02T02:00:00Z</td>\n    </tr>\n    <tr>\n      <th>3</th>\n      <td>16</td>\n      <td>391274515EC415BF0A494107@AdobeOrg</td>\n      <td>2020-09-02T03:00:00Z</td>\n    </tr>\n    <tr>\n      <th>4</th>\n      <td>13</td>\n      <td>391274515EC415BF0A494107@AdobeOrg</td>\n      <td>2020-09-02T04:00:00Z</td>\n    </tr>\n    <tr>\n      <th>...</th>\n      <td>...</td>\n      <td>...</td>\n      <td>...</td>\n    </tr>\n    <tr>\n      <th>95</th>\n      <td>21</td>\n      <td>391274515EC415BF0A494107@AdobeOrg</td>\n      <td>2020-09-06T01:00:00Z</td>\n    </tr>\n    <tr>\n      <th>96</th>\n      <td>20</td>\n      <td>391274515EC415BF0A494107@AdobeOrg</td>\n      <td>2020-09-06T02:00:00Z</td>\n    </tr>\n    <tr>\n      <th>97</th>\n      <td>19</td>\n      <td>391274515EC415BF0A494107@AdobeOrg</td>\n      <td>2020-09-06T03:00:00Z</td>\n    </tr>\n    <tr>\n      <th>98</th>\n      <td>22</td>\n      <td>391274515EC415BF0A494107@AdobeOrg</td>\n      <td>2020-09-06T04:00:00Z</td>\n    </tr>\n    <tr>\n      <th>99</th>\n      <td>21</td>\n      <td>391274515EC415BF0A494107@AdobeOrg</td>\n      <td>2020-09-06T05:00:00Z</td>\n    </tr>\n  </tbody>\n</table>\n<p>100 rows × 3 columns</p>\n</div>",
            "text/plain": "    $1                           imsOrgId                    DT\n0   16  391274515EC415BF0A494107@AdobeOrg  2020-09-02T00:00:00Z\n1   10  391274515EC415BF0A494107@AdobeOrg  2020-09-02T01:00:00Z\n2   10  391274515EC415BF0A494107@AdobeOrg  2020-09-02T02:00:00Z\n3   16  391274515EC415BF0A494107@AdobeOrg  2020-09-02T03:00:00Z\n4   13  391274515EC415BF0A494107@AdobeOrg  2020-09-02T04:00:00Z\n..  ..                                ...                   ...\n95  21  391274515EC415BF0A494107@AdobeOrg  2020-09-06T01:00:00Z\n96  20  391274515EC415BF0A494107@AdobeOrg  2020-09-06T02:00:00Z\n97  19  391274515EC415BF0A494107@AdobeOrg  2020-09-06T03:00:00Z\n98  22  391274515EC415BF0A494107@AdobeOrg  2020-09-06T04:00:00Z\n99  21  391274515EC415BF0A494107@AdobeOrg  2020-09-06T05:00:00Z\n\n[100 rows x 3 columns]"
          },
          "execution_count": 7,
          "metadata": {},
          "output_type": "execute_result"
        }
      ],
      "source": "df_request_count_by_org_date.head(100)"
    },
    {
      "cell_type": "code",
      "execution_count": 5,
      "metadata": {
        "collapsed": true,
        "execution": {
          "iopub.execute_input": "2020-09-09T07:26:30.826Z",
          "iopub.status.busy": "2020-09-09T07:26:30.668Z",
          "iopub.status.idle": "2020-09-09T07:26:30.936Z",
          "shell.execute_reply": "2020-09-09T07:26:30.946Z"
        },
        "jupyter": {
          "outputs_hidden": false,
          "source_hidden": false
        },
        "nteract": {
          "transient": {
            "deleting": false
          }
        },
        "outputExpanded": false,
        "trusted": false
      },
      "outputs": [
        {
          "data": {
            "application/vnd.dataresource+json": {
              "data": [
                {
                  "_ts": 1552410710,
                  "values": 1
                },
                {
                  "_ts": 1552411473,
                  "values": 1
                },
                {
                  "_ts": 1552413015,
                  "values": 1
                },
                {
                  "_ts": 1552413359,
                  "values": 1
                },
                {
                  "_ts": 1552414172,
                  "values": 1
                },
                {
                  "_ts": 1552415091,
                  "values": 1
                },
                {
                  "_ts": 1552415610,
                  "values": 1
                },
                {
                  "_ts": 1552415760,
                  "values": 1
                },
                {
                  "_ts": 1552416468,
                  "values": 1
                },
                {
                  "_ts": 1552416627,
                  "values": 1
                }
              ],
              "schema": {
                "fields": [
                  {
                    "name": "_ts",
                    "type": "integer"
                  },
                  {
                    "name": "values",
                    "type": "integer"
                  }
                ],
                "pandas_version": "0.20.0",
                "primaryKey": [
                  "_ts"
                ]
              }
            },
            "text/plain": "_ts\n1552410710    1\n1552411473    1\n1552413015    1\n1552413359    1\n1552414172    1\n1552415091    1\n1552415610    1\n1552415760    1\n1552416468    1\n1552416627    1\ndtype: int64"
          },
          "execution_count": 5,
          "metadata": {
            "application/vnd.dataresource+json": {
              "__altered": false,
              "_root": {
                "entries": [
                  [
                    "__altered",
                    false
                  ],
                  [
                    "_root",
                    {
                      "entries": [
                        [
                          "__altered",
                          false
                        ],
                        [
                          "_root",
                          {
                            "entries": [
                              [
                                "__altered",
                                false
                              ],
                              [
                                "_root",
                                {
                                  "entries": [
                                    [
                                      "__altered",
                                      false
                                    ],
                                    [
                                      "_root",
                                      {
                                        "entries": [
                                          [
                                            "__altered",
                                            false
                                          ],
                                          [
                                            "_root",
                                            {
                                              "entries": [
                                                [
                                                  "__altered",
                                                  false
                                                ],
                                                [
                                                  "_root",
                                                  {
                                                    "entries": [
                                                      [
                                                        "size",
                                                        6
                                                      ],
                                                      [
                                                        "_root",
                                                        {
                                                          "entries": [
                                                            [
                                                              "size",
                                                              6
                                                            ],
                                                            [
                                                              "_root",
                                                              {
                                                                "entries": [
                                                                  [
                                                                    "size",
                                                                    6
                                                                  ],
                                                                  [
                                                                    "_root",
                                                                    {
                                                                      "entries": [
                                                                        [
                                                                          "size",
                                                                          6
                                                                        ],
                                                                        [
                                                                          "_root",
                                                                          {
                                                                            "entries": [
                                                                              [
                                                                                "size",
                                                                                6
                                                                              ],
                                                                              [
                                                                                "_root",
                                                                                {
                                                                                  "entries": [
                                                                                    [
                                                                                      "size",
                                                                                      1
                                                                                    ],
                                                                                    [
                                                                                      "_root",
                                                                                      {
                                                                                        "entries": [
                                                                                          [
                                                                                            "dx",
                                                                                            {
                                                                                              "areaType": "hexbin",
                                                                                              "barGrouping": "Clustered",
                                                                                              "chart": {
                                                                                                "dim1": "none",
                                                                                                "dim2": "none",
                                                                                                "dim3": "none",
                                                                                                "metric1": "values",
                                                                                                "metric2": "none",
                                                                                                "metric3": "none",
                                                                                                "metric4": "none",
                                                                                                "networkLabel": "none",
                                                                                                "timeseriesSort": "array-order"
                                                                                              },
                                                                                              "colors": [
                                                                                                "#DA752E",
                                                                                                "#E5C209",
                                                                                                "#1441A0",
                                                                                                "#B86117",
                                                                                                "#4D430C",
                                                                                                "#1DB390",
                                                                                                "#B3331D",
                                                                                                "#088EB2",
                                                                                                "#417505",
                                                                                                "#E479A8",
                                                                                                "#F9F39E",
                                                                                                "#5782DC",
                                                                                                "#EBA97B",
                                                                                                "#A2AB60",
                                                                                                "#B291CF",
                                                                                                "#8DD2C2",
                                                                                                "#E6A19F",
                                                                                                "#3DC7E0",
                                                                                                "#98CE5B"
                                                                                              ],
                                                                                              "hierarchyType": "dendrogram",
                                                                                              "lineType": "line",
                                                                                              "marginalGraphics": "none",
                                                                                              "networkType": "force",
                                                                                              "pieceType": "bar",
                                                                                              "selectedDimensions": [],
                                                                                              "selectedMetrics": [],
                                                                                              "summaryType": "violin",
                                                                                              "trendLine": "none",
                                                                                              "view": "grid"
                                                                                            }
                                                                                          ]
                                                                                        ],
                                                                                        "ownerID": {}
                                                                                      }
                                                                                    ],
                                                                                    [
                                                                                      "__ownerID",
                                                                                      null
                                                                                    ],
                                                                                    [
                                                                                      "__hash",
                                                                                      null
                                                                                    ],
                                                                                    [
                                                                                      "__altered",
                                                                                      false
                                                                                    ],
                                                                                    [
                                                                                      "dx",
                                                                                      {
                                                                                        "areaType": "hexbin",
                                                                                        "barGrouping": "Clustered",
                                                                                        "chart": {
                                                                                          "dim1": "none",
                                                                                          "dim2": "none",
                                                                                          "dim3": "none",
                                                                                          "metric1": "values",
                                                                                          "metric2": "none",
                                                                                          "metric3": "none",
                                                                                          "metric4": "none",
                                                                                          "networkLabel": "none",
                                                                                          "timeseriesSort": "array-order"
                                                                                        },
                                                                                        "colors": [
                                                                                          "#DA752E",
                                                                                          "#E5C209",
                                                                                          "#1441A0",
                                                                                          "#B86117",
                                                                                          "#4D430C",
                                                                                          "#1DB390",
                                                                                          "#B3331D",
                                                                                          "#088EB2",
                                                                                          "#417505",
                                                                                          "#E479A8",
                                                                                          "#F9F39E",
                                                                                          "#5782DC",
                                                                                          "#EBA97B",
                                                                                          "#A2AB60",
                                                                                          "#B291CF",
                                                                                          "#8DD2C2",
                                                                                          "#E6A19F",
                                                                                          "#3DC7E0",
                                                                                          "#98CE5B"
                                                                                        ],
                                                                                        "hierarchyType": "dendrogram",
                                                                                        "lineType": "line",
                                                                                        "marginalGraphics": "none",
                                                                                        "networkType": "force",
                                                                                        "pieceType": "bar",
                                                                                        "selectedDimensions": [],
                                                                                        "selectedMetrics": [],
                                                                                        "summaryType": "violin",
                                                                                        "trendLine": "none",
                                                                                        "view": "scatter"
                                                                                      }
                                                                                    ]
                                                                                  ],
                                                                                  "ownerID": {}
                                                                                }
                                                                              ],
                                                                              [
                                                                                "__ownerID",
                                                                                null
                                                                              ],
                                                                              [
                                                                                "__hash",
                                                                                null
                                                                              ],
                                                                              [
                                                                                "__altered",
                                                                                false
                                                                              ],
                                                                              [
                                                                                "dx",
                                                                                {
                                                                                  "areaType": "hexbin",
                                                                                  "barGrouping": "Clustered",
                                                                                  "chart": {
                                                                                    "dim1": "none",
                                                                                    "dim2": "none",
                                                                                    "dim3": "none",
                                                                                    "metric1": "values",
                                                                                    "metric2": "none",
                                                                                    "metric3": "none",
                                                                                    "metric4": "none",
                                                                                    "networkLabel": "none",
                                                                                    "timeseriesSort": "array-order"
                                                                                  },
                                                                                  "colors": [
                                                                                    "#DA752E",
                                                                                    "#E5C209",
                                                                                    "#1441A0",
                                                                                    "#B86117",
                                                                                    "#4D430C",
                                                                                    "#1DB390",
                                                                                    "#B3331D",
                                                                                    "#088EB2",
                                                                                    "#417505",
                                                                                    "#E479A8",
                                                                                    "#F9F39E",
                                                                                    "#5782DC",
                                                                                    "#EBA97B",
                                                                                    "#A2AB60",
                                                                                    "#B291CF",
                                                                                    "#8DD2C2",
                                                                                    "#E6A19F",
                                                                                    "#3DC7E0",
                                                                                    "#98CE5B"
                                                                                  ],
                                                                                  "hierarchyType": "dendrogram",
                                                                                  "lineType": "line",
                                                                                  "marginalGraphics": "none",
                                                                                  "networkType": "force",
                                                                                  "pieceType": "bar",
                                                                                  "selectedDimensions": [],
                                                                                  "selectedMetrics": [],
                                                                                  "summaryType": "violin",
                                                                                  "trendLine": "none",
                                                                                  "view": "hexbin"
                                                                                }
                                                                              ]
                                                                            ],
                                                                            "ownerID": {}
                                                                          }
                                                                        ],
                                                                        [
                                                                          "__ownerID",
                                                                          null
                                                                        ],
                                                                        [
                                                                          "__hash",
                                                                          null
                                                                        ],
                                                                        [
                                                                          "__altered",
                                                                          false
                                                                        ],
                                                                        [
                                                                          "dx",
                                                                          {
                                                                            "areaType": "hexbin",
                                                                            "barGrouping": "Clustered",
                                                                            "chart": {
                                                                              "dim1": "none",
                                                                              "dim2": "none",
                                                                              "dim3": "none",
                                                                              "metric1": "values",
                                                                              "metric2": "none",
                                                                              "metric3": "none",
                                                                              "metric4": "none",
                                                                              "networkLabel": "none",
                                                                              "timeseriesSort": "array-order"
                                                                            },
                                                                            "colors": [
                                                                              "#DA752E",
                                                                              "#E5C209",
                                                                              "#1441A0",
                                                                              "#B86117",
                                                                              "#4D430C",
                                                                              "#1DB390",
                                                                              "#B3331D",
                                                                              "#088EB2",
                                                                              "#417505",
                                                                              "#E479A8",
                                                                              "#F9F39E",
                                                                              "#5782DC",
                                                                              "#EBA97B",
                                                                              "#A2AB60",
                                                                              "#B291CF",
                                                                              "#8DD2C2",
                                                                              "#E6A19F",
                                                                              "#3DC7E0",
                                                                              "#98CE5B"
                                                                            ],
                                                                            "hierarchyType": "dendrogram",
                                                                            "lineType": "line",
                                                                            "marginalGraphics": "none",
                                                                            "networkType": "force",
                                                                            "pieceType": "bar",
                                                                            "selectedDimensions": [],
                                                                            "selectedMetrics": [],
                                                                            "summaryType": "violin",
                                                                            "trendLine": "none",
                                                                            "view": "line"
                                                                          }
                                                                        ]
                                                                      ],
                                                                      "ownerID": {}
                                                                    }
                                                                  ],
                                                                  [
                                                                    "__ownerID",
                                                                    null
                                                                  ],
                                                                  [
                                                                    "__hash",
                                                                    null
                                                                  ],
                                                                  [
                                                                    "__altered",
                                                                    false
                                                                  ],
                                                                  [
                                                                    "dx",
                                                                    {
                                                                      "areaType": "hexbin",
                                                                      "barGrouping": "Clustered",
                                                                      "chart": {
                                                                        "dim1": "none",
                                                                        "dim2": "none",
                                                                        "dim3": "none",
                                                                        "metric1": "values",
                                                                        "metric2": "none",
                                                                        "metric3": "none",
                                                                        "metric4": "none",
                                                                        "networkLabel": "none",
                                                                        "timeseriesSort": "values"
                                                                      },
                                                                      "colors": [
                                                                        "#DA752E",
                                                                        "#E5C209",
                                                                        "#1441A0",
                                                                        "#B86117",
                                                                        "#4D430C",
                                                                        "#1DB390",
                                                                        "#B3331D",
                                                                        "#088EB2",
                                                                        "#417505",
                                                                        "#E479A8",
                                                                        "#F9F39E",
                                                                        "#5782DC",
                                                                        "#EBA97B",
                                                                        "#A2AB60",
                                                                        "#B291CF",
                                                                        "#8DD2C2",
                                                                        "#E6A19F",
                                                                        "#3DC7E0",
                                                                        "#98CE5B"
                                                                      ],
                                                                      "hierarchyType": "dendrogram",
                                                                      "lineType": "line",
                                                                      "marginalGraphics": "none",
                                                                      "networkType": "force",
                                                                      "pieceType": "bar",
                                                                      "selectedDimensions": [],
                                                                      "selectedMetrics": [],
                                                                      "summaryType": "violin",
                                                                      "trendLine": "none",
                                                                      "view": "line"
                                                                    }
                                                                  ]
                                                                ],
                                                                "ownerID": {}
                                                              }
                                                            ],
                                                            [
                                                              "__ownerID",
                                                              null
                                                            ],
                                                            [
                                                              "__hash",
                                                              null
                                                            ],
                                                            [
                                                              "__altered",
                                                              false
                                                            ],
                                                            [
                                                              "dx",
                                                              {
                                                                "areaType": "hexbin",
                                                                "barGrouping": "Clustered",
                                                                "chart": {
                                                                  "dim1": "none",
                                                                  "dim2": "none",
                                                                  "dim3": "none",
                                                                  "metric1": "values",
                                                                  "metric2": "none",
                                                                  "metric3": "none",
                                                                  "metric4": "none",
                                                                  "networkLabel": "none",
                                                                  "timeseriesSort": "array-order"
                                                                },
                                                                "colors": [
                                                                  "#DA752E",
                                                                  "#E5C209",
                                                                  "#1441A0",
                                                                  "#B86117",
                                                                  "#4D430C",
                                                                  "#1DB390",
                                                                  "#B3331D",
                                                                  "#088EB2",
                                                                  "#417505",
                                                                  "#E479A8",
                                                                  "#F9F39E",
                                                                  "#5782DC",
                                                                  "#EBA97B",
                                                                  "#A2AB60",
                                                                  "#B291CF",
                                                                  "#8DD2C2",
                                                                  "#E6A19F",
                                                                  "#3DC7E0",
                                                                  "#98CE5B"
                                                                ],
                                                                "hierarchyType": "dendrogram",
                                                                "lineType": "line",
                                                                "marginalGraphics": "none",
                                                                "networkType": "force",
                                                                "pieceType": "bar",
                                                                "selectedDimensions": [],
                                                                "selectedMetrics": [],
                                                                "summaryType": "violin",
                                                                "trendLine": "none",
                                                                "view": "line"
                                                              }
                                                            ]
                                                          ],
                                                          "ownerID": {}
                                                        }
                                                      ],
                                                      [
                                                        "__ownerID",
                                                        null
                                                      ],
                                                      [
                                                        "__hash",
                                                        null
                                                      ],
                                                      [
                                                        "__altered",
                                                        false
                                                      ],
                                                      [
                                                        "dx",
                                                        {
                                                          "areaType": "hexbin",
                                                          "barGrouping": "Clustered",
                                                          "chart": {
                                                            "dim1": "none",
                                                            "dim2": "none",
                                                            "dim3": "none",
                                                            "metric1": "values",
                                                            "metric2": "none",
                                                            "metric3": "none",
                                                            "metric4": "none",
                                                            "networkLabel": "none",
                                                            "timeseriesSort": "array-order"
                                                          },
                                                          "colors": [
                                                            "#DA752E",
                                                            "#E5C209",
                                                            "#1441A0",
                                                            "#B86117",
                                                            "#4D430C",
                                                            "#1DB390",
                                                            "#B3331D",
                                                            "#088EB2",
                                                            "#417505",
                                                            "#E479A8",
                                                            "#F9F39E",
                                                            "#5782DC",
                                                            "#EBA97B",
                                                            "#A2AB60",
                                                            "#B291CF",
                                                            "#8DD2C2",
                                                            "#E6A19F",
                                                            "#3DC7E0",
                                                            "#98CE5B"
                                                          ],
                                                          "hierarchyType": "dendrogram",
                                                          "lineType": "stackedarea",
                                                          "marginalGraphics": "none",
                                                          "networkType": "force",
                                                          "pieceType": "bar",
                                                          "selectedDimensions": [],
                                                          "selectedMetrics": [],
                                                          "summaryType": "violin",
                                                          "trendLine": "none",
                                                          "view": "line"
                                                        }
                                                      ]
                                                    ],
                                                    "ownerID": {}
                                                  }
                                                ],
                                                [
                                                  "dx",
                                                  {
                                                    "areaType": "hexbin",
                                                    "barGrouping": "Clustered",
                                                    "chart": {
                                                      "dim1": "none",
                                                      "dim2": "none",
                                                      "dim3": "none",
                                                      "metric1": "values",
                                                      "metric2": "none",
                                                      "metric3": "none",
                                                      "metric4": "none",
                                                      "networkLabel": "none",
                                                      "timeseriesSort": "array-order"
                                                    },
                                                    "colors": [
                                                      "#DA752E",
                                                      "#E5C209",
                                                      "#1441A0",
                                                      "#B86117",
                                                      "#4D430C",
                                                      "#1DB390",
                                                      "#B3331D",
                                                      "#088EB2",
                                                      "#417505",
                                                      "#E479A8",
                                                      "#F9F39E",
                                                      "#5782DC",
                                                      "#EBA97B",
                                                      "#A2AB60",
                                                      "#B291CF",
                                                      "#8DD2C2",
                                                      "#E6A19F",
                                                      "#3DC7E0",
                                                      "#98CE5B"
                                                    ],
                                                    "hierarchyType": "dendrogram",
                                                    "lineType": "stackedpercent",
                                                    "marginalGraphics": "none",
                                                    "networkType": "force",
                                                    "pieceType": "bar",
                                                    "selectedDimensions": [],
                                                    "selectedMetrics": [],
                                                    "summaryType": "violin",
                                                    "trendLine": "none",
                                                    "view": "line"
                                                  }
                                                ],
                                                [
                                                  "size",
                                                  6
                                                ]
                                              ],
                                              "ownerID": {}
                                            }
                                          ],
                                          [
                                            "dx",
                                            {
                                              "areaType": "hexbin",
                                              "barGrouping": "Clustered",
                                              "chart": {
                                                "dim1": "none",
                                                "dim2": "none",
                                                "dim3": "none",
                                                "metric1": "values",
                                                "metric2": "none",
                                                "metric3": "none",
                                                "metric4": "none",
                                                "networkLabel": "none",
                                                "timeseriesSort": "array-order"
                                              },
                                              "colors": [
                                                "#DA752E",
                                                "#E5C209",
                                                "#1441A0",
                                                "#B86117",
                                                "#4D430C",
                                                "#1DB390",
                                                "#B3331D",
                                                "#088EB2",
                                                "#417505",
                                                "#E479A8",
                                                "#F9F39E",
                                                "#5782DC",
                                                "#EBA97B",
                                                "#A2AB60",
                                                "#B291CF",
                                                "#8DD2C2",
                                                "#E6A19F",
                                                "#3DC7E0",
                                                "#98CE5B"
                                              ],
                                              "hierarchyType": "dendrogram",
                                              "lineType": "line",
                                              "marginalGraphics": "none",
                                              "networkType": "force",
                                              "pieceType": "bar",
                                              "selectedDimensions": [],
                                              "selectedMetrics": [],
                                              "summaryType": "violin",
                                              "trendLine": "none",
                                              "view": "grid"
                                            }
                                          ],
                                          [
                                            "size",
                                            4
                                          ]
                                        ],
                                        "ownerID": {}
                                      }
                                    ],
                                    [
                                      "dx",
                                      {
                                        "areaType": "hexbin",
                                        "barGrouping": "Clustered",
                                        "chart": {
                                          "dim1": "none",
                                          "dim2": "none",
                                          "dim3": "none",
                                          "metric1": "values",
                                          "metric2": "none",
                                          "metric3": "none",
                                          "metric4": "none",
                                          "networkLabel": "none",
                                          "timeseriesSort": "array-order"
                                        },
                                        "colors": [
                                          "#DA752E",
                                          "#E5C209",
                                          "#1441A0",
                                          "#B86117",
                                          "#4D430C",
                                          "#1DB390",
                                          "#B3331D",
                                          "#088EB2",
                                          "#417505",
                                          "#E479A8",
                                          "#F9F39E",
                                          "#5782DC",
                                          "#EBA97B",
                                          "#A2AB60",
                                          "#B291CF",
                                          "#8DD2C2",
                                          "#E6A19F",
                                          "#3DC7E0",
                                          "#98CE5B"
                                        ],
                                        "hierarchyType": "dendrogram",
                                        "lineType": "line",
                                        "marginalGraphics": "none",
                                        "networkType": "force",
                                        "pieceType": "bar",
                                        "selectedDimensions": [],
                                        "selectedMetrics": [],
                                        "summaryType": "violin",
                                        "trendLine": "none",
                                        "view": "grid"
                                      }
                                    ],
                                    [
                                      "size",
                                      4
                                    ]
                                  ],
                                  "ownerID": {}
                                }
                              ],
                              [
                                "dx",
                                {
                                  "areaType": "hexbin",
                                  "barGrouping": "Clustered",
                                  "chart": {
                                    "dim1": "none",
                                    "dim2": "none",
                                    "dim3": "none",
                                    "metric1": "values",
                                    "metric2": "none",
                                    "metric3": "none",
                                    "metric4": "none",
                                    "networkLabel": "none",
                                    "timeseriesSort": "array-order"
                                  },
                                  "colors": [
                                    "#DA752E",
                                    "#E5C209",
                                    "#1441A0",
                                    "#B86117",
                                    "#4D430C",
                                    "#1DB390",
                                    "#B3331D",
                                    "#088EB2",
                                    "#417505",
                                    "#E479A8",
                                    "#F9F39E",
                                    "#5782DC",
                                    "#EBA97B",
                                    "#A2AB60",
                                    "#B291CF",
                                    "#8DD2C2",
                                    "#E6A19F",
                                    "#3DC7E0",
                                    "#98CE5B"
                                  ],
                                  "hierarchyType": "dendrogram",
                                  "lineType": "line",
                                  "marginalGraphics": "none",
                                  "networkType": "force",
                                  "pieceType": "bar",
                                  "selectedDimensions": [],
                                  "selectedMetrics": [],
                                  "summaryType": "violin",
                                  "trendLine": "none",
                                  "view": "grid"
                                }
                              ],
                              [
                                "size",
                                4
                              ]
                            ],
                            "ownerID": {}
                          }
                        ],
                        [
                          "dx",
                          {
                            "areaType": "hexbin",
                            "barGrouping": "Clustered",
                            "chart": {
                              "dim1": "none",
                              "dim2": "none",
                              "dim3": "none",
                              "metric1": "values",
                              "metric2": "none",
                              "metric3": "none",
                              "metric4": "none",
                              "networkLabel": "none",
                              "timeseriesSort": "array-order"
                            },
                            "colors": [
                              "#DA752E",
                              "#E5C209",
                              "#1441A0",
                              "#B86117",
                              "#4D430C",
                              "#1DB390",
                              "#B3331D",
                              "#088EB2",
                              "#417505",
                              "#E479A8",
                              "#F9F39E",
                              "#5782DC",
                              "#EBA97B",
                              "#A2AB60",
                              "#B291CF",
                              "#8DD2C2",
                              "#E6A19F",
                              "#3DC7E0",
                              "#98CE5B"
                            ],
                            "hierarchyType": "dendrogram",
                            "lineType": "line",
                            "marginalGraphics": "none",
                            "networkType": "force",
                            "pieceType": "bar",
                            "selectedDimensions": [],
                            "selectedMetrics": [],
                            "summaryType": "violin",
                            "trendLine": "none",
                            "view": "grid"
                          }
                        ],
                        [
                          "size",
                          4
                        ]
                      ],
                      "ownerID": {}
                    }
                  ],
                  [
                    "dx",
                    {
                      "areaType": "hexbin",
                      "barGrouping": "Clustered",
                      "chart": {
                        "dim1": "none",
                        "dim2": "none",
                        "dim3": "none",
                        "metric1": "values",
                        "metric2": "none",
                        "metric3": "none",
                        "metric4": "none",
                        "networkLabel": "none",
                        "timeseriesSort": "array-order"
                      },
                      "colors": [
                        "#DA752E",
                        "#E5C209",
                        "#1441A0",
                        "#B86117",
                        "#4D430C",
                        "#1DB390",
                        "#B3331D",
                        "#088EB2",
                        "#417505",
                        "#E479A8",
                        "#F9F39E",
                        "#5782DC",
                        "#EBA97B",
                        "#A2AB60",
                        "#B291CF",
                        "#8DD2C2",
                        "#E6A19F",
                        "#3DC7E0",
                        "#98CE5B"
                      ],
                      "hierarchyType": "dendrogram",
                      "lineType": "line",
                      "marginalGraphics": "none",
                      "networkType": "force",
                      "pieceType": "bar",
                      "selectedDimensions": [],
                      "selectedMetrics": [],
                      "summaryType": "violin",
                      "trendLine": "none",
                      "view": "grid"
                    }
                  ],
                  [
                    "size",
                    4
                  ]
                ],
                "ownerID": {}
              },
              "dx": {
                "areaType": "hexbin",
                "barGrouping": "Clustered",
                "chart": {
                  "dim1": "none",
                  "dim2": "none",
                  "dim3": "none",
                  "metric1": "values",
                  "metric2": "none",
                  "metric3": "none",
                  "metric4": "none",
                  "networkLabel": "none",
                  "timeseriesSort": "array-order"
                },
                "colors": [
                  "#DA752E",
                  "#E5C209",
                  "#1441A0",
                  "#B86117",
                  "#4D430C",
                  "#1DB390",
                  "#B3331D",
                  "#088EB2",
                  "#417505",
                  "#E479A8",
                  "#F9F39E",
                  "#5782DC",
                  "#EBA97B",
                  "#A2AB60",
                  "#B291CF",
                  "#8DD2C2",
                  "#E6A19F",
                  "#3DC7E0",
                  "#98CE5B"
                ],
                "hierarchyType": "dendrogram",
                "lineType": "line",
                "marginalGraphics": "none",
                "networkType": "force",
                "pieceType": "bar",
                "selectedDimensions": [],
                "selectedMetrics": [],
                "summaryType": "violin",
                "trendLine": "none",
                "view": "grid"
              },
              "size": 4
            }
          },
          "output_type": "execute_result"
        }
      ],
      "source": "pd.options.display.html.table_schema = True\npd.options.display.max_rows = None\ndf_request_count_by_date.groupby(\"_ts\").size()"
    },
    {
      "cell_type": "markdown",
      "metadata": {
        "nteract": {
          "transient": {
            "deleting": false
          }
        }
      },
      "source": ""
    },
    {
      "cell_type": "markdown",
      "metadata": {
        "nteract": {
          "transient": {
            "deleting": false
          }
        }
      },
      "source": ""
    }
  ],
  "metadata": {
    "language_info": {
      "file_extension": "ipynb",
      "mimetype": "application/json",
      "name": "python",
      "version": "3.7"
    },
    "nteract": {
      "version": "dataExplorer 1.0"
    }
  },
  "nbformat": 4,
  "nbformat_minor": 4
}