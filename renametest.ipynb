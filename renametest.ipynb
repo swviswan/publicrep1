{
  "cells": [
    {
      "cell_type": "code",
      "source": [
        "import os\n",
        "import time\n",
        "import azure.cosmos\n",
        "\n",
        "db_name = \"iddbtest\"\n",
        "container_name = \"idcltest\"\n",
        "\n",
        "# Create the database if it doesn't exist\n",
        "try:\n",
        "    cosmos_client.create_database(db_name)\n",
        "    print('Database created')\n",
        "    time.sleep(2)\n",
        "except azure.cosmos.errors.CosmosHttpResponseError as e:\n",
        "    if e.status_code == 409:\n",
        "       print('Database already exists')\n",
        "    else: \n",
        "        raise\n",
        "\n",
        "# Reset the container\n",
        "database_client = cosmos_client.get_database_client(db_name)\n",
        "containers = database_client.list_containers()\n",
        "if (any(container['id'] == container_name for container in containers)):\n",
        "    database_client.delete_container(container_name)\n",
        "    print('Container dropped')\n",
        "database_client.create_container(container_name, azure.cosmos.PartitionKey(path=\"/id\"))\n",
        "print('Container created')"
      ],
      "outputs": [
        {
          "output_type": "stream",
          "name": "stdout",
          "text": [
            "Database created\n",
            "Container created\n"
          ]
        }
      ],
      "execution_count": 1,
      "metadata": {
        "collapsed": true,
        "outputExpanded": false,
        "jupyter": {
          "source_hidden": false,
          "outputs_hidden": false
        },
        "nteract": {
          "transient": {
            "deleting": false
          }
        },
        "execution": {
          "iopub.status.busy": "2020-05-19T01:01:43.595Z",
          "iopub.execute_input": "2020-05-19T01:01:43.599Z",
          "iopub.status.idle": "2020-05-19T01:01:47.088Z",
          "shell.execute_reply": "2020-05-19T01:01:47.134Z"
        }
      }
    }
  ],
  "metadata": {
    "nteract": {
      "version": "dataExplorer 1.0"
    },
    "kernelspec": {
      "name": "python3",
      "displayName": "Python 3",
      "language": "python"
    },
    "language_info": {
      "name": "python",
      "version": "3.7",
      "mimetype": "application/json",
      "file_extension": "ipynb"
    }
  },
  "nbformat": 4,
  "nbformat_minor": 0
}